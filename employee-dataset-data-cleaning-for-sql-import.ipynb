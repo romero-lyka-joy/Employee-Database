{
 "cells": [
  {
   "cell_type": "markdown",
   "id": "99ebedc3",
   "metadata": {
    "papermill": {
     "duration": 0.013086,
     "end_time": "2025-01-18T11:02:36.958456",
     "exception": false,
     "start_time": "2025-01-18T11:02:36.945370",
     "status": "completed"
    },
    "tags": []
   },
   "source": [
    "# Importing libraries and dataset"
   ]
  },
  {
   "cell_type": "code",
   "execution_count": 1,
   "id": "9000d850",
   "metadata": {
    "execution": {
     "iopub.execute_input": "2025-01-18T11:02:36.985063Z",
     "iopub.status.busy": "2025-01-18T11:02:36.984683Z",
     "iopub.status.idle": "2025-01-18T11:02:38.014766Z",
     "shell.execute_reply": "2025-01-18T11:02:38.013610Z"
    },
    "papermill": {
     "duration": 1.045611,
     "end_time": "2025-01-18T11:02:38.016832",
     "exception": false,
     "start_time": "2025-01-18T11:02:36.971221",
     "status": "completed"
    },
    "tags": []
   },
   "outputs": [],
   "source": [
    "import pandas as pd"
   ]
  },
  {
   "cell_type": "code",
   "execution_count": 2,
   "id": "b4e6c940",
   "metadata": {
    "execution": {
     "iopub.execute_input": "2025-01-18T11:02:38.044028Z",
     "iopub.status.busy": "2025-01-18T11:02:38.043519Z",
     "iopub.status.idle": "2025-01-18T11:02:38.170932Z",
     "shell.execute_reply": "2025-01-18T11:02:38.169789Z"
    },
    "papermill": {
     "duration": 0.14296,
     "end_time": "2025-01-18T11:02:38.172995",
     "exception": false,
     "start_time": "2025-01-18T11:02:38.030035",
     "status": "completed"
    },
    "tags": []
   },
   "outputs": [],
   "source": [
    "employees = pd.read_csv(\"/kaggle/input/employeedataset/employee_data.csv\")\n",
    "engagement = pd.read_csv(\"/kaggle/input/employeedataset/employee_engagement_survey_data.csv\")\n",
    "recruitment = pd.read_csv(\"/kaggle/input/employeedataset/recruitment_data.csv\")\n",
    "tnd = pd.read_csv(\"/kaggle/input/employeedataset/training_and_development_data.csv\")"
   ]
  },
  {
   "cell_type": "markdown",
   "id": "93a4cba6",
   "metadata": {
    "papermill": {
     "duration": 0.012102,
     "end_time": "2025-01-18T11:02:38.198030",
     "exception": false,
     "start_time": "2025-01-18T11:02:38.185928",
     "status": "completed"
    },
    "tags": []
   },
   "source": [
    "# Quick Overview of the Data"
   ]
  },
  {
   "cell_type": "code",
   "execution_count": 3,
   "id": "b31968f5",
   "metadata": {
    "execution": {
     "iopub.execute_input": "2025-01-18T11:02:38.224052Z",
     "iopub.status.busy": "2025-01-18T11:02:38.223704Z",
     "iopub.status.idle": "2025-01-18T11:02:38.265228Z",
     "shell.execute_reply": "2025-01-18T11:02:38.263989Z"
    },
    "papermill": {
     "duration": 0.05671,
     "end_time": "2025-01-18T11:02:38.267064",
     "exception": false,
     "start_time": "2025-01-18T11:02:38.210354",
     "status": "completed"
    },
    "tags": []
   },
   "outputs": [
    {
     "data": {
      "text/html": [
       "<div>\n",
       "<style scoped>\n",
       "    .dataframe tbody tr th:only-of-type {\n",
       "        vertical-align: middle;\n",
       "    }\n",
       "\n",
       "    .dataframe tbody tr th {\n",
       "        vertical-align: top;\n",
       "    }\n",
       "\n",
       "    .dataframe thead th {\n",
       "        text-align: right;\n",
       "    }\n",
       "</style>\n",
       "<table border=\"1\" class=\"dataframe\">\n",
       "  <thead>\n",
       "    <tr style=\"text-align: right;\">\n",
       "      <th></th>\n",
       "      <th>EmpID</th>\n",
       "      <th>FirstName</th>\n",
       "      <th>LastName</th>\n",
       "      <th>StartDate</th>\n",
       "      <th>ExitDate</th>\n",
       "      <th>Title</th>\n",
       "      <th>Supervisor</th>\n",
       "      <th>ADEmail</th>\n",
       "      <th>BusinessUnit</th>\n",
       "      <th>EmployeeStatus</th>\n",
       "      <th>...</th>\n",
       "      <th>Division</th>\n",
       "      <th>DOB</th>\n",
       "      <th>State</th>\n",
       "      <th>JobFunctionDescription</th>\n",
       "      <th>GenderCode</th>\n",
       "      <th>LocationCode</th>\n",
       "      <th>RaceDesc</th>\n",
       "      <th>MaritalDesc</th>\n",
       "      <th>Performance Score</th>\n",
       "      <th>Current Employee Rating</th>\n",
       "    </tr>\n",
       "  </thead>\n",
       "  <tbody>\n",
       "    <tr>\n",
       "      <th>0</th>\n",
       "      <td>3427</td>\n",
       "      <td>Uriah</td>\n",
       "      <td>Bridges</td>\n",
       "      <td>20-Sep-19</td>\n",
       "      <td>NaN</td>\n",
       "      <td>Production Technician I</td>\n",
       "      <td>Peter Oneill</td>\n",
       "      <td>uriah.bridges@bilearner.com</td>\n",
       "      <td>CCDR</td>\n",
       "      <td>Active</td>\n",
       "      <td>...</td>\n",
       "      <td>Finance &amp; Accounting</td>\n",
       "      <td>07-10-1969</td>\n",
       "      <td>MA</td>\n",
       "      <td>Accounting</td>\n",
       "      <td>Female</td>\n",
       "      <td>34904</td>\n",
       "      <td>White</td>\n",
       "      <td>Widowed</td>\n",
       "      <td>Fully Meets</td>\n",
       "      <td>4</td>\n",
       "    </tr>\n",
       "    <tr>\n",
       "      <th>1</th>\n",
       "      <td>3428</td>\n",
       "      <td>Paula</td>\n",
       "      <td>Small</td>\n",
       "      <td>11-Feb-23</td>\n",
       "      <td>NaN</td>\n",
       "      <td>Production Technician I</td>\n",
       "      <td>Renee Mccormick</td>\n",
       "      <td>paula.small@bilearner.com</td>\n",
       "      <td>EW</td>\n",
       "      <td>Active</td>\n",
       "      <td>...</td>\n",
       "      <td>Aerial</td>\n",
       "      <td>30-08-1965</td>\n",
       "      <td>MA</td>\n",
       "      <td>Labor</td>\n",
       "      <td>Male</td>\n",
       "      <td>6593</td>\n",
       "      <td>Hispanic</td>\n",
       "      <td>Widowed</td>\n",
       "      <td>Fully Meets</td>\n",
       "      <td>3</td>\n",
       "    </tr>\n",
       "    <tr>\n",
       "      <th>2</th>\n",
       "      <td>3429</td>\n",
       "      <td>Edward</td>\n",
       "      <td>Buck</td>\n",
       "      <td>10-Dec-18</td>\n",
       "      <td>NaN</td>\n",
       "      <td>Area Sales Manager</td>\n",
       "      <td>Crystal Walker</td>\n",
       "      <td>edward.buck@bilearner.com</td>\n",
       "      <td>PL</td>\n",
       "      <td>Active</td>\n",
       "      <td>...</td>\n",
       "      <td>General - Sga</td>\n",
       "      <td>06-10-1991</td>\n",
       "      <td>MA</td>\n",
       "      <td>Assistant</td>\n",
       "      <td>Male</td>\n",
       "      <td>2330</td>\n",
       "      <td>Hispanic</td>\n",
       "      <td>Widowed</td>\n",
       "      <td>Fully Meets</td>\n",
       "      <td>4</td>\n",
       "    </tr>\n",
       "    <tr>\n",
       "      <th>3</th>\n",
       "      <td>3430</td>\n",
       "      <td>Michael</td>\n",
       "      <td>Riordan</td>\n",
       "      <td>21-Jun-21</td>\n",
       "      <td>NaN</td>\n",
       "      <td>Area Sales Manager</td>\n",
       "      <td>Rebekah Wright</td>\n",
       "      <td>michael.riordan@bilearner.com</td>\n",
       "      <td>CCDR</td>\n",
       "      <td>Active</td>\n",
       "      <td>...</td>\n",
       "      <td>Finance &amp; Accounting</td>\n",
       "      <td>04-04-1998</td>\n",
       "      <td>ND</td>\n",
       "      <td>Clerk</td>\n",
       "      <td>Male</td>\n",
       "      <td>58782</td>\n",
       "      <td>Other</td>\n",
       "      <td>Single</td>\n",
       "      <td>Fully Meets</td>\n",
       "      <td>2</td>\n",
       "    </tr>\n",
       "    <tr>\n",
       "      <th>4</th>\n",
       "      <td>3431</td>\n",
       "      <td>Jasmine</td>\n",
       "      <td>Onque</td>\n",
       "      <td>29-Jun-19</td>\n",
       "      <td>NaN</td>\n",
       "      <td>Area Sales Manager</td>\n",
       "      <td>Jason Kim</td>\n",
       "      <td>jasmine.onque@bilearner.com</td>\n",
       "      <td>TNS</td>\n",
       "      <td>Active</td>\n",
       "      <td>...</td>\n",
       "      <td>General - Con</td>\n",
       "      <td>29-08-1969</td>\n",
       "      <td>FL</td>\n",
       "      <td>Laborer</td>\n",
       "      <td>Female</td>\n",
       "      <td>33174</td>\n",
       "      <td>Other</td>\n",
       "      <td>Married</td>\n",
       "      <td>Fully Meets</td>\n",
       "      <td>3</td>\n",
       "    </tr>\n",
       "  </tbody>\n",
       "</table>\n",
       "<p>5 rows × 26 columns</p>\n",
       "</div>"
      ],
      "text/plain": [
       "   EmpID FirstName LastName  StartDate ExitDate                    Title  \\\n",
       "0   3427     Uriah  Bridges  20-Sep-19      NaN  Production Technician I   \n",
       "1   3428     Paula    Small  11-Feb-23      NaN  Production Technician I   \n",
       "2   3429    Edward     Buck  10-Dec-18      NaN       Area Sales Manager   \n",
       "3   3430   Michael  Riordan  21-Jun-21      NaN       Area Sales Manager   \n",
       "4   3431   Jasmine    Onque  29-Jun-19      NaN       Area Sales Manager   \n",
       "\n",
       "        Supervisor                        ADEmail BusinessUnit EmployeeStatus  \\\n",
       "0     Peter Oneill    uriah.bridges@bilearner.com         CCDR         Active   \n",
       "1  Renee Mccormick      paula.small@bilearner.com           EW         Active   \n",
       "2   Crystal Walker      edward.buck@bilearner.com           PL         Active   \n",
       "3   Rebekah Wright  michael.riordan@bilearner.com         CCDR         Active   \n",
       "4        Jason Kim    jasmine.onque@bilearner.com          TNS         Active   \n",
       "\n",
       "   ...              Division         DOB State JobFunctionDescription  \\\n",
       "0  ...  Finance & Accounting  07-10-1969    MA             Accounting   \n",
       "1  ...                Aerial  30-08-1965    MA                  Labor   \n",
       "2  ...         General - Sga  06-10-1991    MA              Assistant   \n",
       "3  ...  Finance & Accounting  04-04-1998    ND                  Clerk   \n",
       "4  ...         General - Con  29-08-1969    FL                Laborer   \n",
       "\n",
       "  GenderCode LocationCode  RaceDesc MaritalDesc Performance Score  \\\n",
       "0     Female        34904     White     Widowed       Fully Meets   \n",
       "1       Male         6593  Hispanic     Widowed       Fully Meets   \n",
       "2       Male         2330  Hispanic     Widowed       Fully Meets   \n",
       "3       Male        58782     Other      Single       Fully Meets   \n",
       "4     Female        33174     Other     Married       Fully Meets   \n",
       "\n",
       "  Current Employee Rating  \n",
       "0                       4  \n",
       "1                       3  \n",
       "2                       4  \n",
       "3                       2  \n",
       "4                       3  \n",
       "\n",
       "[5 rows x 26 columns]"
      ]
     },
     "execution_count": 3,
     "metadata": {},
     "output_type": "execute_result"
    }
   ],
   "source": [
    "employees.head()"
   ]
  },
  {
   "cell_type": "code",
   "execution_count": 4,
   "id": "5e87276e",
   "metadata": {
    "execution": {
     "iopub.execute_input": "2025-01-18T11:02:38.294256Z",
     "iopub.status.busy": "2025-01-18T11:02:38.293787Z",
     "iopub.status.idle": "2025-01-18T11:02:38.303587Z",
     "shell.execute_reply": "2025-01-18T11:02:38.302509Z"
    },
    "papermill": {
     "duration": 0.025279,
     "end_time": "2025-01-18T11:02:38.305360",
     "exception": false,
     "start_time": "2025-01-18T11:02:38.280081",
     "status": "completed"
    },
    "tags": []
   },
   "outputs": [
    {
     "data": {
      "text/html": [
       "<div>\n",
       "<style scoped>\n",
       "    .dataframe tbody tr th:only-of-type {\n",
       "        vertical-align: middle;\n",
       "    }\n",
       "\n",
       "    .dataframe tbody tr th {\n",
       "        vertical-align: top;\n",
       "    }\n",
       "\n",
       "    .dataframe thead th {\n",
       "        text-align: right;\n",
       "    }\n",
       "</style>\n",
       "<table border=\"1\" class=\"dataframe\">\n",
       "  <thead>\n",
       "    <tr style=\"text-align: right;\">\n",
       "      <th></th>\n",
       "      <th>Employee ID</th>\n",
       "      <th>Survey Date</th>\n",
       "      <th>Engagement Score</th>\n",
       "      <th>Satisfaction Score</th>\n",
       "      <th>Work-Life Balance Score</th>\n",
       "    </tr>\n",
       "  </thead>\n",
       "  <tbody>\n",
       "    <tr>\n",
       "      <th>0</th>\n",
       "      <td>1001</td>\n",
       "      <td>10-10-2022</td>\n",
       "      <td>2</td>\n",
       "      <td>5</td>\n",
       "      <td>5</td>\n",
       "    </tr>\n",
       "    <tr>\n",
       "      <th>1</th>\n",
       "      <td>1002</td>\n",
       "      <td>03-08-2023</td>\n",
       "      <td>4</td>\n",
       "      <td>5</td>\n",
       "      <td>3</td>\n",
       "    </tr>\n",
       "    <tr>\n",
       "      <th>2</th>\n",
       "      <td>1003</td>\n",
       "      <td>03-01-2023</td>\n",
       "      <td>2</td>\n",
       "      <td>5</td>\n",
       "      <td>2</td>\n",
       "    </tr>\n",
       "    <tr>\n",
       "      <th>3</th>\n",
       "      <td>1004</td>\n",
       "      <td>30-07-2023</td>\n",
       "      <td>3</td>\n",
       "      <td>5</td>\n",
       "      <td>3</td>\n",
       "    </tr>\n",
       "    <tr>\n",
       "      <th>4</th>\n",
       "      <td>1005</td>\n",
       "      <td>19-06-2023</td>\n",
       "      <td>2</td>\n",
       "      <td>4</td>\n",
       "      <td>5</td>\n",
       "    </tr>\n",
       "  </tbody>\n",
       "</table>\n",
       "</div>"
      ],
      "text/plain": [
       "   Employee ID Survey Date  Engagement Score  Satisfaction Score  \\\n",
       "0         1001  10-10-2022                 2                   5   \n",
       "1         1002  03-08-2023                 4                   5   \n",
       "2         1003  03-01-2023                 2                   5   \n",
       "3         1004  30-07-2023                 3                   5   \n",
       "4         1005  19-06-2023                 2                   4   \n",
       "\n",
       "   Work-Life Balance Score  \n",
       "0                        5  \n",
       "1                        3  \n",
       "2                        2  \n",
       "3                        3  \n",
       "4                        5  "
      ]
     },
     "execution_count": 4,
     "metadata": {},
     "output_type": "execute_result"
    }
   ],
   "source": [
    "engagement.head()"
   ]
  },
  {
   "cell_type": "code",
   "execution_count": 5,
   "id": "5ac1da22",
   "metadata": {
    "execution": {
     "iopub.execute_input": "2025-01-18T11:02:38.333072Z",
     "iopub.status.busy": "2025-01-18T11:02:38.332720Z",
     "iopub.status.idle": "2025-01-18T11:02:38.350316Z",
     "shell.execute_reply": "2025-01-18T11:02:38.349248Z"
    },
    "papermill": {
     "duration": 0.033451,
     "end_time": "2025-01-18T11:02:38.351885",
     "exception": false,
     "start_time": "2025-01-18T11:02:38.318434",
     "status": "completed"
    },
    "tags": []
   },
   "outputs": [
    {
     "data": {
      "text/html": [
       "<div>\n",
       "<style scoped>\n",
       "    .dataframe tbody tr th:only-of-type {\n",
       "        vertical-align: middle;\n",
       "    }\n",
       "\n",
       "    .dataframe tbody tr th {\n",
       "        vertical-align: top;\n",
       "    }\n",
       "\n",
       "    .dataframe thead th {\n",
       "        text-align: right;\n",
       "    }\n",
       "</style>\n",
       "<table border=\"1\" class=\"dataframe\">\n",
       "  <thead>\n",
       "    <tr style=\"text-align: right;\">\n",
       "      <th></th>\n",
       "      <th>Applicant ID</th>\n",
       "      <th>Application Date</th>\n",
       "      <th>First Name</th>\n",
       "      <th>Last Name</th>\n",
       "      <th>Gender</th>\n",
       "      <th>Date of Birth</th>\n",
       "      <th>Phone Number</th>\n",
       "      <th>Email</th>\n",
       "      <th>Address</th>\n",
       "      <th>City</th>\n",
       "      <th>State</th>\n",
       "      <th>Zip Code</th>\n",
       "      <th>Country</th>\n",
       "      <th>Education Level</th>\n",
       "      <th>Years of Experience</th>\n",
       "      <th>Desired Salary</th>\n",
       "      <th>Job Title</th>\n",
       "      <th>Status</th>\n",
       "    </tr>\n",
       "  </thead>\n",
       "  <tbody>\n",
       "    <tr>\n",
       "      <th>0</th>\n",
       "      <td>1001</td>\n",
       "      <td>03-Jun-23</td>\n",
       "      <td>Scott</td>\n",
       "      <td>Sheppard</td>\n",
       "      <td>Male</td>\n",
       "      <td>31-08-1992</td>\n",
       "      <td>421-429-7655x39421</td>\n",
       "      <td>perezjanet@example.org</td>\n",
       "      <td>597 Smith Point</td>\n",
       "      <td>Hollandfort</td>\n",
       "      <td>NV</td>\n",
       "      <td>57588</td>\n",
       "      <td>Micronesia</td>\n",
       "      <td>High School</td>\n",
       "      <td>8</td>\n",
       "      <td>60103.21</td>\n",
       "      <td>Chief Technology Officer</td>\n",
       "      <td>Interviewing</td>\n",
       "    </tr>\n",
       "    <tr>\n",
       "      <th>1</th>\n",
       "      <td>1002</td>\n",
       "      <td>15-May-23</td>\n",
       "      <td>Stanley</td>\n",
       "      <td>Lewis</td>\n",
       "      <td>Male</td>\n",
       "      <td>29-04-1965</td>\n",
       "      <td>+1-451-574-5308x1681</td>\n",
       "      <td>grossmark@example.com</td>\n",
       "      <td>8116 Stuart Loop</td>\n",
       "      <td>Port Margaretfurt</td>\n",
       "      <td>TN</td>\n",
       "      <td>14726</td>\n",
       "      <td>Greenland</td>\n",
       "      <td>Bachelor's Degree</td>\n",
       "      <td>17</td>\n",
       "      <td>64575.84</td>\n",
       "      <td>Designer, furniture</td>\n",
       "      <td>Rejected</td>\n",
       "    </tr>\n",
       "    <tr>\n",
       "      <th>2</th>\n",
       "      <td>1003</td>\n",
       "      <td>04-Aug-23</td>\n",
       "      <td>Javier</td>\n",
       "      <td>Li</td>\n",
       "      <td>Female</td>\n",
       "      <td>10-03-1973</td>\n",
       "      <td>(858)901-5499</td>\n",
       "      <td>katiemaldonado@example.com</td>\n",
       "      <td>5940 Barr Villages Suite 075</td>\n",
       "      <td>Dianaland</td>\n",
       "      <td>TX</td>\n",
       "      <td>4699</td>\n",
       "      <td>China</td>\n",
       "      <td>PhD</td>\n",
       "      <td>20</td>\n",
       "      <td>39422.71</td>\n",
       "      <td>Sound technician, broadcasting/film/video</td>\n",
       "      <td>Rejected</td>\n",
       "    </tr>\n",
       "    <tr>\n",
       "      <th>3</th>\n",
       "      <td>1004</td>\n",
       "      <td>28-Jul-23</td>\n",
       "      <td>Christopher</td>\n",
       "      <td>Johnston</td>\n",
       "      <td>Other</td>\n",
       "      <td>04-04-2001</td>\n",
       "      <td>(853)681-1839x2010</td>\n",
       "      <td>sheila73@example.com</td>\n",
       "      <td>442 Lewis Mount</td>\n",
       "      <td>Youngfurt</td>\n",
       "      <td>GA</td>\n",
       "      <td>34455</td>\n",
       "      <td>Ghana</td>\n",
       "      <td>High School</td>\n",
       "      <td>8</td>\n",
       "      <td>51045.11</td>\n",
       "      <td>Air cabin crew</td>\n",
       "      <td>Rejected</td>\n",
       "    </tr>\n",
       "    <tr>\n",
       "      <th>4</th>\n",
       "      <td>1005</td>\n",
       "      <td>05-Jun-23</td>\n",
       "      <td>Melissa</td>\n",
       "      <td>Hicks</td>\n",
       "      <td>Other</td>\n",
       "      <td>17-06-1978</td>\n",
       "      <td>364-575-8478x67812</td>\n",
       "      <td>emilypatterson@example.org</td>\n",
       "      <td>95961 Taylor Circles Apt. 169</td>\n",
       "      <td>East Ashleyborough</td>\n",
       "      <td>IN</td>\n",
       "      <td>21014</td>\n",
       "      <td>Solomon Islands</td>\n",
       "      <td>Master's Degree</td>\n",
       "      <td>0</td>\n",
       "      <td>52792.86</td>\n",
       "      <td>Art therapist</td>\n",
       "      <td>Interviewing</td>\n",
       "    </tr>\n",
       "  </tbody>\n",
       "</table>\n",
       "</div>"
      ],
      "text/plain": [
       "   Applicant ID Application Date   First Name Last Name  Gender Date of Birth  \\\n",
       "0          1001        03-Jun-23        Scott  Sheppard    Male    31-08-1992   \n",
       "1          1002        15-May-23      Stanley     Lewis    Male    29-04-1965   \n",
       "2          1003        04-Aug-23       Javier        Li  Female    10-03-1973   \n",
       "3          1004        28-Jul-23  Christopher  Johnston   Other    04-04-2001   \n",
       "4          1005        05-Jun-23      Melissa     Hicks   Other    17-06-1978   \n",
       "\n",
       "           Phone Number                       Email  \\\n",
       "0    421-429-7655x39421      perezjanet@example.org   \n",
       "1  +1-451-574-5308x1681       grossmark@example.com   \n",
       "2         (858)901-5499  katiemaldonado@example.com   \n",
       "3    (853)681-1839x2010        sheila73@example.com   \n",
       "4    364-575-8478x67812  emilypatterson@example.org   \n",
       "\n",
       "                         Address                City State  Zip Code  \\\n",
       "0                597 Smith Point         Hollandfort    NV     57588   \n",
       "1               8116 Stuart Loop   Port Margaretfurt    TN     14726   \n",
       "2   5940 Barr Villages Suite 075           Dianaland    TX      4699   \n",
       "3                442 Lewis Mount           Youngfurt    GA     34455   \n",
       "4  95961 Taylor Circles Apt. 169  East Ashleyborough    IN     21014   \n",
       "\n",
       "           Country    Education Level  Years of Experience  Desired Salary  \\\n",
       "0       Micronesia        High School                    8        60103.21   \n",
       "1        Greenland  Bachelor's Degree                   17        64575.84   \n",
       "2            China                PhD                   20        39422.71   \n",
       "3            Ghana        High School                    8        51045.11   \n",
       "4  Solomon Islands    Master's Degree                    0        52792.86   \n",
       "\n",
       "                                   Job Title        Status  \n",
       "0                   Chief Technology Officer  Interviewing  \n",
       "1                        Designer, furniture      Rejected  \n",
       "2  Sound technician, broadcasting/film/video      Rejected  \n",
       "3                             Air cabin crew      Rejected  \n",
       "4                              Art therapist  Interviewing  "
      ]
     },
     "execution_count": 5,
     "metadata": {},
     "output_type": "execute_result"
    }
   ],
   "source": [
    "recruitment.head()"
   ]
  },
  {
   "cell_type": "code",
   "execution_count": 6,
   "id": "87e59e48",
   "metadata": {
    "execution": {
     "iopub.execute_input": "2025-01-18T11:02:38.379560Z",
     "iopub.status.busy": "2025-01-18T11:02:38.379175Z",
     "iopub.status.idle": "2025-01-18T11:02:38.391336Z",
     "shell.execute_reply": "2025-01-18T11:02:38.390294Z"
    },
    "papermill": {
     "duration": 0.027695,
     "end_time": "2025-01-18T11:02:38.393002",
     "exception": false,
     "start_time": "2025-01-18T11:02:38.365307",
     "status": "completed"
    },
    "tags": []
   },
   "outputs": [
    {
     "data": {
      "text/html": [
       "<div>\n",
       "<style scoped>\n",
       "    .dataframe tbody tr th:only-of-type {\n",
       "        vertical-align: middle;\n",
       "    }\n",
       "\n",
       "    .dataframe tbody tr th {\n",
       "        vertical-align: top;\n",
       "    }\n",
       "\n",
       "    .dataframe thead th {\n",
       "        text-align: right;\n",
       "    }\n",
       "</style>\n",
       "<table border=\"1\" class=\"dataframe\">\n",
       "  <thead>\n",
       "    <tr style=\"text-align: right;\">\n",
       "      <th></th>\n",
       "      <th>Employee ID</th>\n",
       "      <th>Training Date</th>\n",
       "      <th>Training Program Name</th>\n",
       "      <th>Training Type</th>\n",
       "      <th>Training Outcome</th>\n",
       "      <th>Location</th>\n",
       "      <th>Trainer</th>\n",
       "      <th>Training Duration(Days)</th>\n",
       "      <th>Training Cost</th>\n",
       "    </tr>\n",
       "  </thead>\n",
       "  <tbody>\n",
       "    <tr>\n",
       "      <th>0</th>\n",
       "      <td>1001</td>\n",
       "      <td>21-Sep-22</td>\n",
       "      <td>Customer Service</td>\n",
       "      <td>Internal</td>\n",
       "      <td>Failed</td>\n",
       "      <td>Port Greg</td>\n",
       "      <td>Amanda Daniels</td>\n",
       "      <td>4</td>\n",
       "      <td>510.83</td>\n",
       "    </tr>\n",
       "    <tr>\n",
       "      <th>1</th>\n",
       "      <td>1002</td>\n",
       "      <td>19-Jul-23</td>\n",
       "      <td>Leadership Development</td>\n",
       "      <td>Internal</td>\n",
       "      <td>Failed</td>\n",
       "      <td>Brandonview</td>\n",
       "      <td>Brittany Chambers</td>\n",
       "      <td>2</td>\n",
       "      <td>582.37</td>\n",
       "    </tr>\n",
       "    <tr>\n",
       "      <th>2</th>\n",
       "      <td>1003</td>\n",
       "      <td>24-Feb-23</td>\n",
       "      <td>Technical Skills</td>\n",
       "      <td>Internal</td>\n",
       "      <td>Incomplete</td>\n",
       "      <td>Port Briannahaven</td>\n",
       "      <td>Mark Roberson</td>\n",
       "      <td>4</td>\n",
       "      <td>777.06</td>\n",
       "    </tr>\n",
       "    <tr>\n",
       "      <th>3</th>\n",
       "      <td>1004</td>\n",
       "      <td>12-Jan-23</td>\n",
       "      <td>Customer Service</td>\n",
       "      <td>Internal</td>\n",
       "      <td>Completed</td>\n",
       "      <td>Knightborough</td>\n",
       "      <td>Richard Fisher</td>\n",
       "      <td>2</td>\n",
       "      <td>824.30</td>\n",
       "    </tr>\n",
       "    <tr>\n",
       "      <th>4</th>\n",
       "      <td>1005</td>\n",
       "      <td>12-May-23</td>\n",
       "      <td>Communication Skills</td>\n",
       "      <td>External</td>\n",
       "      <td>Passed</td>\n",
       "      <td>Bruceshire</td>\n",
       "      <td>Heather Shaffer</td>\n",
       "      <td>4</td>\n",
       "      <td>145.99</td>\n",
       "    </tr>\n",
       "  </tbody>\n",
       "</table>\n",
       "</div>"
      ],
      "text/plain": [
       "   Employee ID Training Date   Training Program Name Training Type  \\\n",
       "0         1001     21-Sep-22        Customer Service      Internal   \n",
       "1         1002     19-Jul-23  Leadership Development      Internal   \n",
       "2         1003     24-Feb-23        Technical Skills      Internal   \n",
       "3         1004     12-Jan-23        Customer Service      Internal   \n",
       "4         1005     12-May-23    Communication Skills      External   \n",
       "\n",
       "  Training Outcome           Location            Trainer  \\\n",
       "0           Failed          Port Greg     Amanda Daniels   \n",
       "1           Failed        Brandonview  Brittany Chambers   \n",
       "2       Incomplete  Port Briannahaven      Mark Roberson   \n",
       "3        Completed      Knightborough     Richard Fisher   \n",
       "4           Passed         Bruceshire    Heather Shaffer   \n",
       "\n",
       "   Training Duration(Days)  Training Cost  \n",
       "0                        4         510.83  \n",
       "1                        2         582.37  \n",
       "2                        4         777.06  \n",
       "3                        2         824.30  \n",
       "4                        4         145.99  "
      ]
     },
     "execution_count": 6,
     "metadata": {},
     "output_type": "execute_result"
    }
   ],
   "source": [
    "tnd.head()"
   ]
  },
  {
   "cell_type": "markdown",
   "id": "0b161bc7",
   "metadata": {
    "papermill": {
     "duration": 0.013352,
     "end_time": "2025-01-18T11:02:38.420061",
     "exception": false,
     "start_time": "2025-01-18T11:02:38.406709",
     "status": "completed"
    },
    "tags": []
   },
   "source": [
    "# Checking for Null Values"
   ]
  },
  {
   "cell_type": "code",
   "execution_count": 7,
   "id": "96c43c8e",
   "metadata": {
    "execution": {
     "iopub.execute_input": "2025-01-18T11:02:38.448112Z",
     "iopub.status.busy": "2025-01-18T11:02:38.447659Z",
     "iopub.status.idle": "2025-01-18T11:02:38.461075Z",
     "shell.execute_reply": "2025-01-18T11:02:38.459939Z"
    },
    "papermill": {
     "duration": 0.029505,
     "end_time": "2025-01-18T11:02:38.462862",
     "exception": false,
     "start_time": "2025-01-18T11:02:38.433357",
     "status": "completed"
    },
    "tags": []
   },
   "outputs": [
    {
     "data": {
      "text/plain": [
       "EmpID                            0\n",
       "FirstName                        0\n",
       "LastName                         0\n",
       "StartDate                        0\n",
       "ExitDate                      1467\n",
       "Title                            0\n",
       "Supervisor                       0\n",
       "ADEmail                          0\n",
       "BusinessUnit                     0\n",
       "EmployeeStatus                   0\n",
       "EmployeeType                     0\n",
       "PayZone                          0\n",
       "EmployeeClassificationType       0\n",
       "TerminationType                  0\n",
       "TerminationDescription        1467\n",
       "DepartmentType                   0\n",
       "Division                         0\n",
       "DOB                              0\n",
       "State                            0\n",
       "JobFunctionDescription           0\n",
       "GenderCode                       0\n",
       "LocationCode                     0\n",
       "RaceDesc                         0\n",
       "MaritalDesc                      0\n",
       "Performance Score                0\n",
       "Current Employee Rating          0\n",
       "dtype: int64"
      ]
     },
     "execution_count": 7,
     "metadata": {},
     "output_type": "execute_result"
    }
   ],
   "source": [
    "employees.isnull().sum()"
   ]
  },
  {
   "cell_type": "markdown",
   "id": "c1018749",
   "metadata": {
    "papermill": {
     "duration": 0.013125,
     "end_time": "2025-01-18T11:02:38.489631",
     "exception": false,
     "start_time": "2025-01-18T11:02:38.476506",
     "status": "completed"
    },
    "tags": []
   },
   "source": [
    "**It can be noted that only exit date and termination date has null values. This is reasonable since the dataset is comprised of both inactive and active employees - active employees will have no termination date yet.**"
   ]
  },
  {
   "cell_type": "code",
   "execution_count": 8,
   "id": "d46e28ae",
   "metadata": {
    "execution": {
     "iopub.execute_input": "2025-01-18T11:02:38.517884Z",
     "iopub.status.busy": "2025-01-18T11:02:38.517482Z",
     "iopub.status.idle": "2025-01-18T11:02:38.525468Z",
     "shell.execute_reply": "2025-01-18T11:02:38.524307Z"
    },
    "papermill": {
     "duration": 0.02401,
     "end_time": "2025-01-18T11:02:38.527117",
     "exception": false,
     "start_time": "2025-01-18T11:02:38.503107",
     "status": "completed"
    },
    "tags": []
   },
   "outputs": [
    {
     "data": {
      "text/plain": [
       "Employee ID                0\n",
       "Survey Date                0\n",
       "Engagement Score           0\n",
       "Satisfaction Score         0\n",
       "Work-Life Balance Score    0\n",
       "dtype: int64"
      ]
     },
     "execution_count": 8,
     "metadata": {},
     "output_type": "execute_result"
    }
   ],
   "source": [
    "engagement.isnull().sum()"
   ]
  },
  {
   "cell_type": "markdown",
   "id": "44b14a7a",
   "metadata": {
    "papermill": {
     "duration": 0.013162,
     "end_time": "2025-01-18T11:02:38.554133",
     "exception": false,
     "start_time": "2025-01-18T11:02:38.540971",
     "status": "completed"
    },
    "tags": []
   },
   "source": [
    "**No null values for the engagement dataset.**"
   ]
  },
  {
   "cell_type": "code",
   "execution_count": 9,
   "id": "0512e181",
   "metadata": {
    "execution": {
     "iopub.execute_input": "2025-01-18T11:02:38.582350Z",
     "iopub.status.busy": "2025-01-18T11:02:38.581928Z",
     "iopub.status.idle": "2025-01-18T11:02:38.592287Z",
     "shell.execute_reply": "2025-01-18T11:02:38.591181Z"
    },
    "papermill": {
     "duration": 0.026903,
     "end_time": "2025-01-18T11:02:38.594527",
     "exception": false,
     "start_time": "2025-01-18T11:02:38.567624",
     "status": "completed"
    },
    "tags": []
   },
   "outputs": [
    {
     "data": {
      "text/plain": [
       "Applicant ID           0\n",
       "Application Date       0\n",
       "First Name             0\n",
       "Last Name              0\n",
       "Gender                 0\n",
       "Date of Birth          0\n",
       "Phone Number           0\n",
       "Email                  0\n",
       "Address                0\n",
       "City                   0\n",
       "State                  0\n",
       "Zip Code               0\n",
       "Country                0\n",
       "Education Level        0\n",
       "Years of Experience    0\n",
       "Desired Salary         0\n",
       "Job Title              0\n",
       "Status                 0\n",
       "dtype: int64"
      ]
     },
     "execution_count": 9,
     "metadata": {},
     "output_type": "execute_result"
    }
   ],
   "source": [
    "recruitment.isnull().sum()"
   ]
  },
  {
   "cell_type": "markdown",
   "id": "23a2127d",
   "metadata": {
    "papermill": {
     "duration": 0.013235,
     "end_time": "2025-01-18T11:02:38.622403",
     "exception": false,
     "start_time": "2025-01-18T11:02:38.609168",
     "status": "completed"
    },
    "tags": []
   },
   "source": [
    "**No null values for the recruitment dataset.**"
   ]
  },
  {
   "cell_type": "code",
   "execution_count": 10,
   "id": "a8c26e6a",
   "metadata": {
    "execution": {
     "iopub.execute_input": "2025-01-18T11:02:38.651070Z",
     "iopub.status.busy": "2025-01-18T11:02:38.650730Z",
     "iopub.status.idle": "2025-01-18T11:02:38.659145Z",
     "shell.execute_reply": "2025-01-18T11:02:38.658115Z"
    },
    "papermill": {
     "duration": 0.024623,
     "end_time": "2025-01-18T11:02:38.660749",
     "exception": false,
     "start_time": "2025-01-18T11:02:38.636126",
     "status": "completed"
    },
    "tags": []
   },
   "outputs": [
    {
     "data": {
      "text/plain": [
       "Employee ID                0\n",
       "Training Date              0\n",
       "Training Program Name      0\n",
       "Training Type              0\n",
       "Training Outcome           0\n",
       "Location                   0\n",
       "Trainer                    0\n",
       "Training Duration(Days)    0\n",
       "Training Cost              0\n",
       "dtype: int64"
      ]
     },
     "execution_count": 10,
     "metadata": {},
     "output_type": "execute_result"
    }
   ],
   "source": [
    "tnd.isnull().sum()"
   ]
  },
  {
   "cell_type": "markdown",
   "id": "3a2c6217",
   "metadata": {
    "papermill": {
     "duration": 0.015253,
     "end_time": "2025-01-18T11:02:38.690069",
     "exception": false,
     "start_time": "2025-01-18T11:02:38.674816",
     "status": "completed"
    },
    "tags": []
   },
   "source": [
    "**No null values for the training and development dataset.**"
   ]
  },
  {
   "cell_type": "markdown",
   "id": "334a427b",
   "metadata": {
    "papermill": {
     "duration": 0.013572,
     "end_time": "2025-01-18T11:02:38.717968",
     "exception": false,
     "start_time": "2025-01-18T11:02:38.704396",
     "status": "completed"
    },
    "tags": []
   },
   "source": [
    "# Checking for Duplicates"
   ]
  },
  {
   "cell_type": "markdown",
   "id": "a32ccd9e",
   "metadata": {
    "papermill": {
     "duration": 0.014248,
     "end_time": "2025-01-18T11:02:38.746358",
     "exception": false,
     "start_time": "2025-01-18T11:02:38.732110",
     "status": "completed"
    },
    "tags": []
   },
   "source": [
    "### Checking for Duplicates: Employees Dataset"
   ]
  },
  {
   "cell_type": "code",
   "execution_count": 11,
   "id": "5f3ab6bc",
   "metadata": {
    "execution": {
     "iopub.execute_input": "2025-01-18T11:02:38.775445Z",
     "iopub.status.busy": "2025-01-18T11:02:38.775045Z",
     "iopub.status.idle": "2025-01-18T11:02:38.780977Z",
     "shell.execute_reply": "2025-01-18T11:02:38.779965Z"
    },
    "papermill": {
     "duration": 0.022118,
     "end_time": "2025-01-18T11:02:38.782407",
     "exception": false,
     "start_time": "2025-01-18T11:02:38.760289",
     "status": "completed"
    },
    "tags": []
   },
   "outputs": [
    {
     "data": {
      "text/plain": [
       "Index(['EmpID', 'FirstName', 'LastName', 'StartDate', 'ExitDate', 'Title',\n",
       "       'Supervisor', 'ADEmail', 'BusinessUnit', 'EmployeeStatus',\n",
       "       'EmployeeType', 'PayZone', 'EmployeeClassificationType',\n",
       "       'TerminationType', 'TerminationDescription', 'DepartmentType',\n",
       "       'Division', 'DOB', 'State', 'JobFunctionDescription', 'GenderCode',\n",
       "       'LocationCode', 'RaceDesc', 'MaritalDesc', 'Performance Score',\n",
       "       'Current Employee Rating'],\n",
       "      dtype='object')"
      ]
     },
     "execution_count": 11,
     "metadata": {},
     "output_type": "execute_result"
    }
   ],
   "source": [
    "employees.columns"
   ]
  },
  {
   "cell_type": "markdown",
   "id": "367e7d91",
   "metadata": {
    "papermill": {
     "duration": 0.013624,
     "end_time": "2025-01-18T11:02:38.810409",
     "exception": false,
     "start_time": "2025-01-18T11:02:38.796785",
     "status": "completed"
    },
    "tags": []
   },
   "source": [
    "**From the columns above, I want to check EmpID and ADEmail in particular since these values should be unique.**"
   ]
  },
  {
   "cell_type": "code",
   "execution_count": 12,
   "id": "1ddb9ada",
   "metadata": {
    "execution": {
     "iopub.execute_input": "2025-01-18T11:02:38.839608Z",
     "iopub.status.busy": "2025-01-18T11:02:38.839226Z",
     "iopub.status.idle": "2025-01-18T11:02:38.850274Z",
     "shell.execute_reply": "2025-01-18T11:02:38.849222Z"
    },
    "papermill": {
     "duration": 0.027414,
     "end_time": "2025-01-18T11:02:38.851936",
     "exception": false,
     "start_time": "2025-01-18T11:02:38.824522",
     "status": "completed"
    },
    "tags": []
   },
   "outputs": [
    {
     "data": {
      "text/plain": [
       "0"
      ]
     },
     "execution_count": 12,
     "metadata": {},
     "output_type": "execute_result"
    }
   ],
   "source": [
    "employees['EmpID'].duplicated().sum()"
   ]
  },
  {
   "cell_type": "markdown",
   "id": "4215e3d8",
   "metadata": {
    "papermill": {
     "duration": 0.013599,
     "end_time": "2025-01-18T11:02:38.879871",
     "exception": false,
     "start_time": "2025-01-18T11:02:38.866272",
     "status": "completed"
    },
    "tags": []
   },
   "source": [
    "**There are no duplicates for the employee id.**"
   ]
  },
  {
   "cell_type": "code",
   "execution_count": 13,
   "id": "dc59f4e2",
   "metadata": {
    "execution": {
     "iopub.execute_input": "2025-01-18T11:02:38.909560Z",
     "iopub.status.busy": "2025-01-18T11:02:38.909171Z",
     "iopub.status.idle": "2025-01-18T11:02:38.915730Z",
     "shell.execute_reply": "2025-01-18T11:02:38.914819Z"
    },
    "papermill": {
     "duration": 0.022999,
     "end_time": "2025-01-18T11:02:38.917284",
     "exception": false,
     "start_time": "2025-01-18T11:02:38.894285",
     "status": "completed"
    },
    "tags": []
   },
   "outputs": [
    {
     "data": {
      "text/plain": [
       "2"
      ]
     },
     "execution_count": 13,
     "metadata": {},
     "output_type": "execute_result"
    }
   ],
   "source": [
    "employees['ADEmail'].duplicated().sum()"
   ]
  },
  {
   "cell_type": "markdown",
   "id": "f119d991",
   "metadata": {
    "papermill": {
     "duration": 0.013975,
     "end_time": "2025-01-18T11:02:38.945623",
     "exception": false,
     "start_time": "2025-01-18T11:02:38.931648",
     "status": "completed"
    },
    "tags": []
   },
   "source": [
    "**There are two duplicates in the email address.**"
   ]
  },
  {
   "cell_type": "code",
   "execution_count": 14,
   "id": "80aeeaf0",
   "metadata": {
    "execution": {
     "iopub.execute_input": "2025-01-18T11:02:38.975278Z",
     "iopub.status.busy": "2025-01-18T11:02:38.974859Z",
     "iopub.status.idle": "2025-01-18T11:02:38.989850Z",
     "shell.execute_reply": "2025-01-18T11:02:38.988454Z"
    },
    "papermill": {
     "duration": 0.032048,
     "end_time": "2025-01-18T11:02:38.991747",
     "exception": false,
     "start_time": "2025-01-18T11:02:38.959699",
     "status": "completed"
    },
    "tags": []
   },
   "outputs": [
    {
     "name": "stdout",
     "output_type": "stream",
     "text": [
      "      EmpID FirstName LastName  StartDate   ExitDate  \\\n",
      "865    1292   Larissa   Warner  27-Oct-18        NaN   \n",
      "1742   2169   Larissa   Warner  04-Jul-20  11-May-22   \n",
      "1974   2401    Darien    Young  09-Nov-22  10-Jan-23   \n",
      "2204   2631    Darien    Young  03-Mar-21        NaN   \n",
      "\n",
      "                         Title        Supervisor  \\\n",
      "865    Production Technician I          Amy Hess   \n",
      "1742  Production Technician II    Sarah Harrison   \n",
      "1974        Production Manager  Christopher Reid   \n",
      "2204        Area Sales Manager        Maria Hale   \n",
      "\n",
      "                           ADEmail BusinessUnit        EmployeeStatus  ...  \\\n",
      "865   larissa.warner@bilearner.com          BPC                Active  ...   \n",
      "1742  larissa.warner@bilearner.com          MSC                Active  ...   \n",
      "1974    darien.young@bilearner.com          NEL  Terminated for Cause  ...   \n",
      "2204    darien.young@bilearner.com          MSC                Active  ...   \n",
      "\n",
      "              Division         DOB State JobFunctionDescription GenderCode  \\\n",
      "865          Engineers  27-06-1943    MA               Engineer     Female   \n",
      "1742     General - Con  26-12-1995    MA                Flagger     Female   \n",
      "1974  Field Operations  23-09-1945    MA             Technician     Female   \n",
      "2204              Catv  09-04-1998    ID                Foreman     Female   \n",
      "\n",
      "     LocationCode RaceDesc MaritalDesc Performance Score  \\\n",
      "865         28931    White    Divorced       Fully Meets   \n",
      "1742        81396    Black     Widowed           Exceeds   \n",
      "1974        96954    Asian    Divorced       Fully Meets   \n",
      "2204        50389    Black     Widowed       Fully Meets   \n",
      "\n",
      "     Current Employee Rating  \n",
      "865                        3  \n",
      "1742                       3  \n",
      "1974                       5  \n",
      "2204                       2  \n",
      "\n",
      "[4 rows x 26 columns]\n"
     ]
    }
   ],
   "source": [
    "email_duplicate = employees[employees['ADEmail'].duplicated(keep=False)]\n",
    "print(email_duplicate)"
   ]
  },
  {
   "cell_type": "markdown",
   "id": "dcf0e03c",
   "metadata": {
    "papermill": {
     "duration": 0.013914,
     "end_time": "2025-01-18T11:02:39.020663",
     "exception": false,
     "start_time": "2025-01-18T11:02:39.006749",
     "status": "completed"
    },
    "tags": []
   },
   "source": [
    "**Upon checking, the duplicates are possibly because old employee's emails are being reused by new hires. I will be adding a \"ReusedEmail\" column to distinguish these rows. The IT or onboarding team may be advised for such occurences.**"
   ]
  },
  {
   "cell_type": "code",
   "execution_count": 15,
   "id": "1cd3968d",
   "metadata": {
    "execution": {
     "iopub.execute_input": "2025-01-18T11:02:39.050695Z",
     "iopub.status.busy": "2025-01-18T11:02:39.050369Z",
     "iopub.status.idle": "2025-01-18T11:02:39.056985Z",
     "shell.execute_reply": "2025-01-18T11:02:39.055886Z"
    },
    "papermill": {
     "duration": 0.023243,
     "end_time": "2025-01-18T11:02:39.058565",
     "exception": false,
     "start_time": "2025-01-18T11:02:39.035322",
     "status": "completed"
    },
    "tags": []
   },
   "outputs": [],
   "source": [
    "employees[\"ReusedEmail\"] = employees['ADEmail'].duplicated(keep=False).map({True:True, False:False})"
   ]
  },
  {
   "cell_type": "code",
   "execution_count": 16,
   "id": "97f660fd",
   "metadata": {
    "execution": {
     "iopub.execute_input": "2025-01-18T11:02:39.088337Z",
     "iopub.status.busy": "2025-01-18T11:02:39.087951Z",
     "iopub.status.idle": "2025-01-18T11:02:39.109015Z",
     "shell.execute_reply": "2025-01-18T11:02:39.107914Z"
    },
    "papermill": {
     "duration": 0.037813,
     "end_time": "2025-01-18T11:02:39.110663",
     "exception": false,
     "start_time": "2025-01-18T11:02:39.072850",
     "status": "completed"
    },
    "tags": []
   },
   "outputs": [
    {
     "data": {
      "text/html": [
       "<div>\n",
       "<style scoped>\n",
       "    .dataframe tbody tr th:only-of-type {\n",
       "        vertical-align: middle;\n",
       "    }\n",
       "\n",
       "    .dataframe tbody tr th {\n",
       "        vertical-align: top;\n",
       "    }\n",
       "\n",
       "    .dataframe thead th {\n",
       "        text-align: right;\n",
       "    }\n",
       "</style>\n",
       "<table border=\"1\" class=\"dataframe\">\n",
       "  <thead>\n",
       "    <tr style=\"text-align: right;\">\n",
       "      <th></th>\n",
       "      <th>EmpID</th>\n",
       "      <th>FirstName</th>\n",
       "      <th>LastName</th>\n",
       "      <th>StartDate</th>\n",
       "      <th>ExitDate</th>\n",
       "      <th>Title</th>\n",
       "      <th>Supervisor</th>\n",
       "      <th>ADEmail</th>\n",
       "      <th>BusinessUnit</th>\n",
       "      <th>EmployeeStatus</th>\n",
       "      <th>...</th>\n",
       "      <th>DOB</th>\n",
       "      <th>State</th>\n",
       "      <th>JobFunctionDescription</th>\n",
       "      <th>GenderCode</th>\n",
       "      <th>LocationCode</th>\n",
       "      <th>RaceDesc</th>\n",
       "      <th>MaritalDesc</th>\n",
       "      <th>Performance Score</th>\n",
       "      <th>Current Employee Rating</th>\n",
       "      <th>ReusedEmail</th>\n",
       "    </tr>\n",
       "  </thead>\n",
       "  <tbody>\n",
       "    <tr>\n",
       "      <th>0</th>\n",
       "      <td>3427</td>\n",
       "      <td>Uriah</td>\n",
       "      <td>Bridges</td>\n",
       "      <td>20-Sep-19</td>\n",
       "      <td>NaN</td>\n",
       "      <td>Production Technician I</td>\n",
       "      <td>Peter Oneill</td>\n",
       "      <td>uriah.bridges@bilearner.com</td>\n",
       "      <td>CCDR</td>\n",
       "      <td>Active</td>\n",
       "      <td>...</td>\n",
       "      <td>07-10-1969</td>\n",
       "      <td>MA</td>\n",
       "      <td>Accounting</td>\n",
       "      <td>Female</td>\n",
       "      <td>34904</td>\n",
       "      <td>White</td>\n",
       "      <td>Widowed</td>\n",
       "      <td>Fully Meets</td>\n",
       "      <td>4</td>\n",
       "      <td>False</td>\n",
       "    </tr>\n",
       "    <tr>\n",
       "      <th>1</th>\n",
       "      <td>3428</td>\n",
       "      <td>Paula</td>\n",
       "      <td>Small</td>\n",
       "      <td>11-Feb-23</td>\n",
       "      <td>NaN</td>\n",
       "      <td>Production Technician I</td>\n",
       "      <td>Renee Mccormick</td>\n",
       "      <td>paula.small@bilearner.com</td>\n",
       "      <td>EW</td>\n",
       "      <td>Active</td>\n",
       "      <td>...</td>\n",
       "      <td>30-08-1965</td>\n",
       "      <td>MA</td>\n",
       "      <td>Labor</td>\n",
       "      <td>Male</td>\n",
       "      <td>6593</td>\n",
       "      <td>Hispanic</td>\n",
       "      <td>Widowed</td>\n",
       "      <td>Fully Meets</td>\n",
       "      <td>3</td>\n",
       "      <td>False</td>\n",
       "    </tr>\n",
       "    <tr>\n",
       "      <th>2</th>\n",
       "      <td>3429</td>\n",
       "      <td>Edward</td>\n",
       "      <td>Buck</td>\n",
       "      <td>10-Dec-18</td>\n",
       "      <td>NaN</td>\n",
       "      <td>Area Sales Manager</td>\n",
       "      <td>Crystal Walker</td>\n",
       "      <td>edward.buck@bilearner.com</td>\n",
       "      <td>PL</td>\n",
       "      <td>Active</td>\n",
       "      <td>...</td>\n",
       "      <td>06-10-1991</td>\n",
       "      <td>MA</td>\n",
       "      <td>Assistant</td>\n",
       "      <td>Male</td>\n",
       "      <td>2330</td>\n",
       "      <td>Hispanic</td>\n",
       "      <td>Widowed</td>\n",
       "      <td>Fully Meets</td>\n",
       "      <td>4</td>\n",
       "      <td>False</td>\n",
       "    </tr>\n",
       "    <tr>\n",
       "      <th>3</th>\n",
       "      <td>3430</td>\n",
       "      <td>Michael</td>\n",
       "      <td>Riordan</td>\n",
       "      <td>21-Jun-21</td>\n",
       "      <td>NaN</td>\n",
       "      <td>Area Sales Manager</td>\n",
       "      <td>Rebekah Wright</td>\n",
       "      <td>michael.riordan@bilearner.com</td>\n",
       "      <td>CCDR</td>\n",
       "      <td>Active</td>\n",
       "      <td>...</td>\n",
       "      <td>04-04-1998</td>\n",
       "      <td>ND</td>\n",
       "      <td>Clerk</td>\n",
       "      <td>Male</td>\n",
       "      <td>58782</td>\n",
       "      <td>Other</td>\n",
       "      <td>Single</td>\n",
       "      <td>Fully Meets</td>\n",
       "      <td>2</td>\n",
       "      <td>False</td>\n",
       "    </tr>\n",
       "    <tr>\n",
       "      <th>4</th>\n",
       "      <td>3431</td>\n",
       "      <td>Jasmine</td>\n",
       "      <td>Onque</td>\n",
       "      <td>29-Jun-19</td>\n",
       "      <td>NaN</td>\n",
       "      <td>Area Sales Manager</td>\n",
       "      <td>Jason Kim</td>\n",
       "      <td>jasmine.onque@bilearner.com</td>\n",
       "      <td>TNS</td>\n",
       "      <td>Active</td>\n",
       "      <td>...</td>\n",
       "      <td>29-08-1969</td>\n",
       "      <td>FL</td>\n",
       "      <td>Laborer</td>\n",
       "      <td>Female</td>\n",
       "      <td>33174</td>\n",
       "      <td>Other</td>\n",
       "      <td>Married</td>\n",
       "      <td>Fully Meets</td>\n",
       "      <td>3</td>\n",
       "      <td>False</td>\n",
       "    </tr>\n",
       "  </tbody>\n",
       "</table>\n",
       "<p>5 rows × 27 columns</p>\n",
       "</div>"
      ],
      "text/plain": [
       "   EmpID FirstName LastName  StartDate ExitDate                    Title  \\\n",
       "0   3427     Uriah  Bridges  20-Sep-19      NaN  Production Technician I   \n",
       "1   3428     Paula    Small  11-Feb-23      NaN  Production Technician I   \n",
       "2   3429    Edward     Buck  10-Dec-18      NaN       Area Sales Manager   \n",
       "3   3430   Michael  Riordan  21-Jun-21      NaN       Area Sales Manager   \n",
       "4   3431   Jasmine    Onque  29-Jun-19      NaN       Area Sales Manager   \n",
       "\n",
       "        Supervisor                        ADEmail BusinessUnit EmployeeStatus  \\\n",
       "0     Peter Oneill    uriah.bridges@bilearner.com         CCDR         Active   \n",
       "1  Renee Mccormick      paula.small@bilearner.com           EW         Active   \n",
       "2   Crystal Walker      edward.buck@bilearner.com           PL         Active   \n",
       "3   Rebekah Wright  michael.riordan@bilearner.com         CCDR         Active   \n",
       "4        Jason Kim    jasmine.onque@bilearner.com          TNS         Active   \n",
       "\n",
       "   ...         DOB State JobFunctionDescription GenderCode LocationCode  \\\n",
       "0  ...  07-10-1969    MA             Accounting     Female        34904   \n",
       "1  ...  30-08-1965    MA                  Labor       Male         6593   \n",
       "2  ...  06-10-1991    MA              Assistant       Male         2330   \n",
       "3  ...  04-04-1998    ND                  Clerk       Male        58782   \n",
       "4  ...  29-08-1969    FL                Laborer     Female        33174   \n",
       "\n",
       "   RaceDesc MaritalDesc Performance Score Current Employee Rating ReusedEmail  \n",
       "0     White     Widowed       Fully Meets                       4       False  \n",
       "1  Hispanic     Widowed       Fully Meets                       3       False  \n",
       "2  Hispanic     Widowed       Fully Meets                       4       False  \n",
       "3     Other      Single       Fully Meets                       2       False  \n",
       "4     Other     Married       Fully Meets                       3       False  \n",
       "\n",
       "[5 rows x 27 columns]"
      ]
     },
     "execution_count": 16,
     "metadata": {},
     "output_type": "execute_result"
    }
   ],
   "source": [
    "employees.head()"
   ]
  },
  {
   "cell_type": "markdown",
   "id": "3e887619",
   "metadata": {
    "papermill": {
     "duration": 0.014246,
     "end_time": "2025-01-18T11:02:39.139598",
     "exception": false,
     "start_time": "2025-01-18T11:02:39.125352",
     "status": "completed"
    },
    "tags": []
   },
   "source": [
    "### Checking for Duplicates: Employee Engagement Survey"
   ]
  },
  {
   "cell_type": "code",
   "execution_count": 17,
   "id": "b15403f2",
   "metadata": {
    "execution": {
     "iopub.execute_input": "2025-01-18T11:02:39.169788Z",
     "iopub.status.busy": "2025-01-18T11:02:39.169451Z",
     "iopub.status.idle": "2025-01-18T11:02:39.178490Z",
     "shell.execute_reply": "2025-01-18T11:02:39.177510Z"
    },
    "papermill": {
     "duration": 0.02602,
     "end_time": "2025-01-18T11:02:39.180079",
     "exception": false,
     "start_time": "2025-01-18T11:02:39.154059",
     "status": "completed"
    },
    "tags": []
   },
   "outputs": [
    {
     "data": {
      "text/plain": [
       "0"
      ]
     },
     "execution_count": 17,
     "metadata": {},
     "output_type": "execute_result"
    }
   ],
   "source": [
    "engagement.duplicated().sum()"
   ]
  },
  {
   "cell_type": "code",
   "execution_count": 18,
   "id": "f27e23d4",
   "metadata": {
    "execution": {
     "iopub.execute_input": "2025-01-18T11:02:39.211654Z",
     "iopub.status.busy": "2025-01-18T11:02:39.211315Z",
     "iopub.status.idle": "2025-01-18T11:02:39.217224Z",
     "shell.execute_reply": "2025-01-18T11:02:39.216178Z"
    },
    "papermill": {
     "duration": 0.023339,
     "end_time": "2025-01-18T11:02:39.218772",
     "exception": false,
     "start_time": "2025-01-18T11:02:39.195433",
     "status": "completed"
    },
    "tags": []
   },
   "outputs": [
    {
     "data": {
      "text/plain": [
       "Index(['Employee ID', 'Survey Date', 'Engagement Score', 'Satisfaction Score',\n",
       "       'Work-Life Balance Score'],\n",
       "      dtype='object')"
      ]
     },
     "execution_count": 18,
     "metadata": {},
     "output_type": "execute_result"
    }
   ],
   "source": [
    "engagement.columns"
   ]
  },
  {
   "cell_type": "code",
   "execution_count": 19,
   "id": "77cb8b6b",
   "metadata": {
    "execution": {
     "iopub.execute_input": "2025-01-18T11:02:39.251074Z",
     "iopub.status.busy": "2025-01-18T11:02:39.250710Z",
     "iopub.status.idle": "2025-01-18T11:02:39.257079Z",
     "shell.execute_reply": "2025-01-18T11:02:39.256097Z"
    },
    "papermill": {
     "duration": 0.024348,
     "end_time": "2025-01-18T11:02:39.258756",
     "exception": false,
     "start_time": "2025-01-18T11:02:39.234408",
     "status": "completed"
    },
    "tags": []
   },
   "outputs": [
    {
     "data": {
      "text/plain": [
       "0"
      ]
     },
     "execution_count": 19,
     "metadata": {},
     "output_type": "execute_result"
    }
   ],
   "source": [
    "engagement['Employee ID'].duplicated().sum()"
   ]
  },
  {
   "cell_type": "markdown",
   "id": "971480c8",
   "metadata": {
    "papermill": {
     "duration": 0.014446,
     "end_time": "2025-01-18T11:02:39.288106",
     "exception": false,
     "start_time": "2025-01-18T11:02:39.273660",
     "status": "completed"
    },
    "tags": []
   },
   "source": [
    "**There are no duplicates in the employee engagement survey.**"
   ]
  },
  {
   "cell_type": "markdown",
   "id": "1175cf28",
   "metadata": {
    "papermill": {
     "duration": 0.014497,
     "end_time": "2025-01-18T11:02:39.317580",
     "exception": false,
     "start_time": "2025-01-18T11:02:39.303083",
     "status": "completed"
    },
    "tags": []
   },
   "source": [
    "### Checking for Duplicates: Recruitment Data"
   ]
  },
  {
   "cell_type": "code",
   "execution_count": 20,
   "id": "c196cd34",
   "metadata": {
    "execution": {
     "iopub.execute_input": "2025-01-18T11:02:39.347950Z",
     "iopub.status.busy": "2025-01-18T11:02:39.347623Z",
     "iopub.status.idle": "2025-01-18T11:02:39.360646Z",
     "shell.execute_reply": "2025-01-18T11:02:39.359618Z"
    },
    "papermill": {
     "duration": 0.030234,
     "end_time": "2025-01-18T11:02:39.362387",
     "exception": false,
     "start_time": "2025-01-18T11:02:39.332153",
     "status": "completed"
    },
    "tags": []
   },
   "outputs": [
    {
     "data": {
      "text/plain": [
       "0"
      ]
     },
     "execution_count": 20,
     "metadata": {},
     "output_type": "execute_result"
    }
   ],
   "source": [
    "recruitment.duplicated().sum()"
   ]
  },
  {
   "cell_type": "markdown",
   "id": "71ffb4d5",
   "metadata": {
    "papermill": {
     "duration": 0.015,
     "end_time": "2025-01-18T11:02:39.392745",
     "exception": false,
     "start_time": "2025-01-18T11:02:39.377745",
     "status": "completed"
    },
    "tags": []
   },
   "source": [
    "**There are no duplicate rows in the recruitment dataset. I will not be checking the duplicates for each of recruitment's columns since it's possible for someone to have multiple applications**"
   ]
  },
  {
   "cell_type": "markdown",
   "id": "6c6880b0",
   "metadata": {
    "papermill": {
     "duration": 0.015026,
     "end_time": "2025-01-18T11:02:39.422778",
     "exception": false,
     "start_time": "2025-01-18T11:02:39.407752",
     "status": "completed"
    },
    "tags": []
   },
   "source": [
    "### Checking for Duplicates: Training & Development Data"
   ]
  },
  {
   "cell_type": "code",
   "execution_count": 21,
   "id": "367ae48c",
   "metadata": {
    "execution": {
     "iopub.execute_input": "2025-01-18T11:02:39.454111Z",
     "iopub.status.busy": "2025-01-18T11:02:39.453725Z",
     "iopub.status.idle": "2025-01-18T11:02:39.463202Z",
     "shell.execute_reply": "2025-01-18T11:02:39.462135Z"
    },
    "papermill": {
     "duration": 0.027035,
     "end_time": "2025-01-18T11:02:39.464898",
     "exception": false,
     "start_time": "2025-01-18T11:02:39.437863",
     "status": "completed"
    },
    "tags": []
   },
   "outputs": [
    {
     "data": {
      "text/plain": [
       "0"
      ]
     },
     "execution_count": 21,
     "metadata": {},
     "output_type": "execute_result"
    }
   ],
   "source": [
    "tnd.duplicated().sum()"
   ]
  },
  {
   "cell_type": "code",
   "execution_count": 22,
   "id": "96c928d6",
   "metadata": {
    "execution": {
     "iopub.execute_input": "2025-01-18T11:02:39.555956Z",
     "iopub.status.busy": "2025-01-18T11:02:39.555610Z",
     "iopub.status.idle": "2025-01-18T11:02:39.561892Z",
     "shell.execute_reply": "2025-01-18T11:02:39.560756Z"
    },
    "papermill": {
     "duration": 0.02402,
     "end_time": "2025-01-18T11:02:39.563694",
     "exception": false,
     "start_time": "2025-01-18T11:02:39.539674",
     "status": "completed"
    },
    "tags": []
   },
   "outputs": [
    {
     "data": {
      "text/plain": [
       "Index(['Employee ID', 'Training Date', 'Training Program Name',\n",
       "       'Training Type', 'Training Outcome', 'Location', 'Trainer',\n",
       "       'Training Duration(Days)', 'Training Cost'],\n",
       "      dtype='object')"
      ]
     },
     "execution_count": 22,
     "metadata": {},
     "output_type": "execute_result"
    }
   ],
   "source": [
    "tnd.columns"
   ]
  },
  {
   "cell_type": "markdown",
   "id": "37245ec6",
   "metadata": {
    "papermill": {
     "duration": 0.015373,
     "end_time": "2025-01-18T11:02:39.594275",
     "exception": false,
     "start_time": "2025-01-18T11:02:39.578902",
     "status": "completed"
    },
    "tags": []
   },
   "source": [
    "**There are no duplicates in the training & development (TND) dataset. I will not be checking the duplicates for each of TND's columns since it's possible for an employee to have multiple trainings, and the other columns are not required to have unique values either.**"
   ]
  },
  {
   "cell_type": "markdown",
   "id": "9c21a9fc",
   "metadata": {
    "papermill": {
     "duration": 0.015036,
     "end_time": "2025-01-18T11:02:39.624625",
     "exception": false,
     "start_time": "2025-01-18T11:02:39.609589",
     "status": "completed"
    },
    "tags": []
   },
   "source": [
    "# Checking for Data Type"
   ]
  },
  {
   "cell_type": "markdown",
   "id": "553b1298",
   "metadata": {
    "papermill": {
     "duration": 0.014915,
     "end_time": "2025-01-18T11:02:39.654711",
     "exception": false,
     "start_time": "2025-01-18T11:02:39.639796",
     "status": "completed"
    },
    "tags": []
   },
   "source": [
    "### Checking for Data Type: Employees"
   ]
  },
  {
   "cell_type": "code",
   "execution_count": 23,
   "id": "c741efc3",
   "metadata": {
    "execution": {
     "iopub.execute_input": "2025-01-18T11:02:39.688162Z",
     "iopub.status.busy": "2025-01-18T11:02:39.687836Z",
     "iopub.status.idle": "2025-01-18T11:02:39.694368Z",
     "shell.execute_reply": "2025-01-18T11:02:39.693129Z"
    },
    "papermill": {
     "duration": 0.025972,
     "end_time": "2025-01-18T11:02:39.695859",
     "exception": false,
     "start_time": "2025-01-18T11:02:39.669887",
     "status": "completed"
    },
    "tags": []
   },
   "outputs": [
    {
     "name": "stdout",
     "output_type": "stream",
     "text": [
      "EmpID                          int64\n",
      "FirstName                     object\n",
      "LastName                      object\n",
      "StartDate                     object\n",
      "ExitDate                      object\n",
      "Title                         object\n",
      "Supervisor                    object\n",
      "ADEmail                       object\n",
      "BusinessUnit                  object\n",
      "EmployeeStatus                object\n",
      "EmployeeType                  object\n",
      "PayZone                       object\n",
      "EmployeeClassificationType    object\n",
      "TerminationType               object\n",
      "TerminationDescription        object\n",
      "DepartmentType                object\n",
      "Division                      object\n",
      "DOB                           object\n",
      "State                         object\n",
      "JobFunctionDescription        object\n",
      "GenderCode                    object\n",
      "LocationCode                   int64\n",
      "RaceDesc                      object\n",
      "MaritalDesc                   object\n",
      "Performance Score             object\n",
      "Current Employee Rating        int64\n",
      "ReusedEmail                     bool\n",
      "dtype: object\n"
     ]
    }
   ],
   "source": [
    "print(employees.dtypes)"
   ]
  },
  {
   "cell_type": "markdown",
   "id": "e419ff8d",
   "metadata": {
    "papermill": {
     "duration": 0.014735,
     "end_time": "2025-01-18T11:02:39.725777",
     "exception": false,
     "start_time": "2025-01-18T11:02:39.711042",
     "status": "completed"
    },
    "tags": []
   },
   "source": [
    "**I can see that the StartDate, ExitDate, and DOB are not set as DATE data type. I will be converting these columns accordingly.**"
   ]
  },
  {
   "cell_type": "code",
   "execution_count": 24,
   "id": "e9c105ce",
   "metadata": {
    "execution": {
     "iopub.execute_input": "2025-01-18T11:02:39.757594Z",
     "iopub.status.busy": "2025-01-18T11:02:39.757184Z",
     "iopub.status.idle": "2025-01-18T11:02:39.765962Z",
     "shell.execute_reply": "2025-01-18T11:02:39.764691Z"
    },
    "papermill": {
     "duration": 0.026451,
     "end_time": "2025-01-18T11:02:39.767551",
     "exception": false,
     "start_time": "2025-01-18T11:02:39.741100",
     "status": "completed"
    },
    "tags": []
   },
   "outputs": [
    {
     "name": "stdout",
     "output_type": "stream",
     "text": [
      "Start Date\n",
      "0       20-Sep-19\n",
      "1       11-Feb-23\n",
      "2       10-Dec-18\n",
      "3       21-Jun-21\n",
      "4       29-Jun-19\n",
      "          ...    \n",
      "2995    22-Jun-22\n",
      "2996    28-Dec-20\n",
      "2997    09-Dec-20\n",
      "2998    28-May-19\n",
      "2999    27-Apr-22\n",
      "Name: StartDate, Length: 3000, dtype: object\n",
      "End Date\n",
      "0             NaN\n",
      "1             NaN\n",
      "2             NaN\n",
      "3             NaN\n",
      "4             NaN\n",
      "          ...    \n",
      "2995    07-Aug-22\n",
      "2996          NaN\n",
      "2997    04-Aug-22\n",
      "2998    23-Oct-21\n",
      "2999          NaN\n",
      "Name: ExitDate, Length: 3000, dtype: object\n",
      "DOB\n",
      "0       07-10-1969\n",
      "1       30-08-1965\n",
      "2       06-10-1991\n",
      "3       04-04-1998\n",
      "4       29-08-1969\n",
      "           ...    \n",
      "2995    23-06-1998\n",
      "2996    10-06-2001\n",
      "2997    27-01-1997\n",
      "2998    28-05-1954\n",
      "2999    11-09-1990\n",
      "Name: DOB, Length: 3000, dtype: object\n"
     ]
    }
   ],
   "source": [
    "##checking for date format\n",
    "print(\"Start Date\")\n",
    "print(employees['StartDate'])\n",
    "print(\"End Date\")\n",
    "print(employees['ExitDate'])\n",
    "print(\"DOB\")\n",
    "print(employees['DOB'])"
   ]
  },
  {
   "cell_type": "code",
   "execution_count": 25,
   "id": "b5ad5d76",
   "metadata": {
    "execution": {
     "iopub.execute_input": "2025-01-18T11:02:39.800488Z",
     "iopub.status.busy": "2025-01-18T11:02:39.800074Z",
     "iopub.status.idle": "2025-01-18T11:02:39.819490Z",
     "shell.execute_reply": "2025-01-18T11:02:39.818281Z"
    },
    "papermill": {
     "duration": 0.037311,
     "end_time": "2025-01-18T11:02:39.821140",
     "exception": false,
     "start_time": "2025-01-18T11:02:39.783829",
     "status": "completed"
    },
    "tags": []
   },
   "outputs": [
    {
     "name": "stdout",
     "output_type": "stream",
     "text": [
      "0      2019-09-20\n",
      "1      2023-02-11\n",
      "2      2018-12-10\n",
      "3      2021-06-21\n",
      "4      2019-06-29\n",
      "          ...    \n",
      "2995   2022-06-22\n",
      "2996   2020-12-28\n",
      "2997   2020-12-09\n",
      "2998   2019-05-28\n",
      "2999   2022-04-27\n",
      "Name: StartDate, Length: 3000, dtype: datetime64[ns]\n"
     ]
    }
   ],
   "source": [
    "## converting start date to date type\n",
    "employees['StartDate'] = pd.to_datetime(employees['StartDate'], format = '%d-%b-%y')\n",
    "print(employees['StartDate'])"
   ]
  },
  {
   "cell_type": "code",
   "execution_count": 26,
   "id": "7fb3e85b",
   "metadata": {
    "execution": {
     "iopub.execute_input": "2025-01-18T11:02:39.853744Z",
     "iopub.status.busy": "2025-01-18T11:02:39.853415Z",
     "iopub.status.idle": "2025-01-18T11:02:39.864697Z",
     "shell.execute_reply": "2025-01-18T11:02:39.863503Z"
    },
    "papermill": {
     "duration": 0.029362,
     "end_time": "2025-01-18T11:02:39.866297",
     "exception": false,
     "start_time": "2025-01-18T11:02:39.836935",
     "status": "completed"
    },
    "tags": []
   },
   "outputs": [
    {
     "name": "stdout",
     "output_type": "stream",
     "text": [
      "0             NaT\n",
      "1             NaT\n",
      "2             NaT\n",
      "3             NaT\n",
      "4             NaT\n",
      "          ...    \n",
      "2995   2022-08-07\n",
      "2996          NaT\n",
      "2997   2022-08-04\n",
      "2998   2021-10-23\n",
      "2999          NaT\n",
      "Name: ExitDate, Length: 3000, dtype: datetime64[ns]\n"
     ]
    }
   ],
   "source": [
    "## converting exit date to date type\n",
    "employees['ExitDate'] = pd.to_datetime(employees['ExitDate'], format = '%d-%b-%y')\n",
    "print(employees['ExitDate'])"
   ]
  },
  {
   "cell_type": "code",
   "execution_count": 27,
   "id": "5f14831e",
   "metadata": {
    "execution": {
     "iopub.execute_input": "2025-01-18T11:02:39.899353Z",
     "iopub.status.busy": "2025-01-18T11:02:39.898962Z",
     "iopub.status.idle": "2025-01-18T11:02:39.914649Z",
     "shell.execute_reply": "2025-01-18T11:02:39.913613Z"
    },
    "papermill": {
     "duration": 0.033961,
     "end_time": "2025-01-18T11:02:39.916307",
     "exception": false,
     "start_time": "2025-01-18T11:02:39.882346",
     "status": "completed"
    },
    "tags": []
   },
   "outputs": [
    {
     "name": "stdout",
     "output_type": "stream",
     "text": [
      "0      1969-10-07\n",
      "1      1965-08-30\n",
      "2      1991-10-06\n",
      "3      1998-04-04\n",
      "4      1969-08-29\n",
      "          ...    \n",
      "2995   1998-06-23\n",
      "2996   2001-06-10\n",
      "2997   1997-01-27\n",
      "2998   1954-05-28\n",
      "2999   1990-09-11\n",
      "Name: DOB, Length: 3000, dtype: datetime64[ns]\n"
     ]
    }
   ],
   "source": [
    "## converting DOB to date type\n",
    "employees['DOB'] = pd.to_datetime(employees['DOB'], format = '%d-%m-%Y')\n",
    "print(employees['DOB'])"
   ]
  },
  {
   "cell_type": "code",
   "execution_count": 28,
   "id": "acc987dc",
   "metadata": {
    "execution": {
     "iopub.execute_input": "2025-01-18T11:02:39.948791Z",
     "iopub.status.busy": "2025-01-18T11:02:39.948472Z",
     "iopub.status.idle": "2025-01-18T11:02:39.954390Z",
     "shell.execute_reply": "2025-01-18T11:02:39.953326Z"
    },
    "papermill": {
     "duration": 0.024147,
     "end_time": "2025-01-18T11:02:39.956251",
     "exception": false,
     "start_time": "2025-01-18T11:02:39.932104",
     "status": "completed"
    },
    "tags": []
   },
   "outputs": [
    {
     "name": "stdout",
     "output_type": "stream",
     "text": [
      "EmpID                                  int64\n",
      "FirstName                             object\n",
      "LastName                              object\n",
      "StartDate                     datetime64[ns]\n",
      "ExitDate                      datetime64[ns]\n",
      "Title                                 object\n",
      "Supervisor                            object\n",
      "ADEmail                               object\n",
      "BusinessUnit                          object\n",
      "EmployeeStatus                        object\n",
      "EmployeeType                          object\n",
      "PayZone                               object\n",
      "EmployeeClassificationType            object\n",
      "TerminationType                       object\n",
      "TerminationDescription                object\n",
      "DepartmentType                        object\n",
      "Division                              object\n",
      "DOB                           datetime64[ns]\n",
      "State                                 object\n",
      "JobFunctionDescription                object\n",
      "GenderCode                            object\n",
      "LocationCode                           int64\n",
      "RaceDesc                              object\n",
      "MaritalDesc                           object\n",
      "Performance Score                     object\n",
      "Current Employee Rating                int64\n",
      "ReusedEmail                             bool\n",
      "dtype: object\n"
     ]
    }
   ],
   "source": [
    "print(employees.dtypes)"
   ]
  },
  {
   "cell_type": "markdown",
   "id": "607a4b9e",
   "metadata": {
    "papermill": {
     "duration": 0.015053,
     "end_time": "2025-01-18T11:02:39.987144",
     "exception": false,
     "start_time": "2025-01-18T11:02:39.972091",
     "status": "completed"
    },
    "tags": []
   },
   "source": [
    "### Checking for Data Type: Recruitment"
   ]
  },
  {
   "cell_type": "code",
   "execution_count": 29,
   "id": "f65fbbd8",
   "metadata": {
    "execution": {
     "iopub.execute_input": "2025-01-18T11:02:40.019836Z",
     "iopub.status.busy": "2025-01-18T11:02:40.019504Z",
     "iopub.status.idle": "2025-01-18T11:02:40.025622Z",
     "shell.execute_reply": "2025-01-18T11:02:40.024433Z"
    },
    "papermill": {
     "duration": 0.024229,
     "end_time": "2025-01-18T11:02:40.027039",
     "exception": false,
     "start_time": "2025-01-18T11:02:40.002810",
     "status": "completed"
    },
    "tags": []
   },
   "outputs": [
    {
     "name": "stdout",
     "output_type": "stream",
     "text": [
      "Applicant ID             int64\n",
      "Application Date        object\n",
      "First Name              object\n",
      "Last Name               object\n",
      "Gender                  object\n",
      "Date of Birth           object\n",
      "Phone Number            object\n",
      "Email                   object\n",
      "Address                 object\n",
      "City                    object\n",
      "State                   object\n",
      "Zip Code                 int64\n",
      "Country                 object\n",
      "Education Level         object\n",
      "Years of Experience      int64\n",
      "Desired Salary         float64\n",
      "Job Title               object\n",
      "Status                  object\n",
      "dtype: object\n"
     ]
    }
   ],
   "source": [
    "print(recruitment.dtypes)"
   ]
  },
  {
   "cell_type": "code",
   "execution_count": 30,
   "id": "e1ca24ab",
   "metadata": {
    "execution": {
     "iopub.execute_input": "2025-01-18T11:02:40.059590Z",
     "iopub.status.busy": "2025-01-18T11:02:40.059257Z",
     "iopub.status.idle": "2025-01-18T11:02:40.067499Z",
     "shell.execute_reply": "2025-01-18T11:02:40.066138Z"
    },
    "papermill": {
     "duration": 0.026252,
     "end_time": "2025-01-18T11:02:40.069155",
     "exception": false,
     "start_time": "2025-01-18T11:02:40.042903",
     "status": "completed"
    },
    "tags": []
   },
   "outputs": [
    {
     "name": "stdout",
     "output_type": "stream",
     "text": [
      "Application Date:\n",
      "0       03-Jun-23\n",
      "1       15-May-23\n",
      "2       04-Aug-23\n",
      "3       28-Jul-23\n",
      "4       05-Jun-23\n",
      "          ...    \n",
      "2995    18-May-23\n",
      "2996    12-Jul-23\n",
      "2997    19-Jun-23\n",
      "2998    16-May-23\n",
      "2999    07-Jul-23\n",
      "Name: Application Date, Length: 3000, dtype: object\n",
      "DOB:\n",
      "0       31-08-1992\n",
      "1       29-04-1965\n",
      "2       10-03-1973\n",
      "3       04-04-2001\n",
      "4       17-06-1978\n",
      "           ...    \n",
      "2995    25-11-1993\n",
      "2996    29-01-1978\n",
      "2997    08-02-2000\n",
      "2998    08-08-1994\n",
      "2999    01-06-1980\n",
      "Name: Date of Birth, Length: 3000, dtype: object\n"
     ]
    }
   ],
   "source": [
    "print(\"Application Date:\")\n",
    "print(recruitment['Application Date'])\n",
    "print(\"DOB:\")\n",
    "print(recruitment['Date of Birth'])"
   ]
  },
  {
   "cell_type": "code",
   "execution_count": 31,
   "id": "173cc2b8",
   "metadata": {
    "execution": {
     "iopub.execute_input": "2025-01-18T11:02:40.102437Z",
     "iopub.status.busy": "2025-01-18T11:02:40.102012Z",
     "iopub.status.idle": "2025-01-18T11:02:40.111494Z",
     "shell.execute_reply": "2025-01-18T11:02:40.110477Z"
    },
    "papermill": {
     "duration": 0.027907,
     "end_time": "2025-01-18T11:02:40.113041",
     "exception": false,
     "start_time": "2025-01-18T11:02:40.085134",
     "status": "completed"
    },
    "tags": []
   },
   "outputs": [
    {
     "name": "stdout",
     "output_type": "stream",
     "text": [
      "0      2023-06-03\n",
      "1      2023-05-15\n",
      "2      2023-08-04\n",
      "3      2023-07-28\n",
      "4      2023-06-05\n",
      "          ...    \n",
      "2995   2023-05-18\n",
      "2996   2023-07-12\n",
      "2997   2023-06-19\n",
      "2998   2023-05-16\n",
      "2999   2023-07-07\n",
      "Name: Application Date, Length: 3000, dtype: datetime64[ns]\n"
     ]
    }
   ],
   "source": [
    "recruitment['Application Date']=pd.to_datetime(recruitment['Application Date'], format = '%d-%b-%y')\n",
    "print(recruitment['Application Date'])"
   ]
  },
  {
   "cell_type": "code",
   "execution_count": 32,
   "id": "5daa11ef",
   "metadata": {
    "execution": {
     "iopub.execute_input": "2025-01-18T11:02:40.146205Z",
     "iopub.status.busy": "2025-01-18T11:02:40.145838Z",
     "iopub.status.idle": "2025-01-18T11:02:40.160803Z",
     "shell.execute_reply": "2025-01-18T11:02:40.159557Z"
    },
    "papermill": {
     "duration": 0.033566,
     "end_time": "2025-01-18T11:02:40.162485",
     "exception": false,
     "start_time": "2025-01-18T11:02:40.128919",
     "status": "completed"
    },
    "tags": []
   },
   "outputs": [
    {
     "name": "stdout",
     "output_type": "stream",
     "text": [
      "0      1992-08-31\n",
      "1      1965-04-29\n",
      "2      1973-03-10\n",
      "3      2001-04-04\n",
      "4      1978-06-17\n",
      "          ...    \n",
      "2995   1993-11-25\n",
      "2996   1978-01-29\n",
      "2997   2000-02-08\n",
      "2998   1994-08-08\n",
      "2999   1980-06-01\n",
      "Name: Date of Birth, Length: 3000, dtype: datetime64[ns]\n"
     ]
    }
   ],
   "source": [
    "recruitment['Date of Birth'] = pd.to_datetime(recruitment['Date of Birth'], format = '%d-%m-%Y')\n",
    "print(recruitment['Date of Birth'])"
   ]
  },
  {
   "cell_type": "markdown",
   "id": "e4b61ddc",
   "metadata": {
    "papermill": {
     "duration": 0.015687,
     "end_time": "2025-01-18T11:02:40.194135",
     "exception": false,
     "start_time": "2025-01-18T11:02:40.178448",
     "status": "completed"
    },
    "tags": []
   },
   "source": [
    "### Phone Number"
   ]
  },
  {
   "cell_type": "code",
   "execution_count": 33,
   "id": "ce6d04a0",
   "metadata": {
    "execution": {
     "iopub.execute_input": "2025-01-18T11:02:40.227480Z",
     "iopub.status.busy": "2025-01-18T11:02:40.227082Z",
     "iopub.status.idle": "2025-01-18T11:02:40.233566Z",
     "shell.execute_reply": "2025-01-18T11:02:40.232297Z"
    },
    "papermill": {
     "duration": 0.025087,
     "end_time": "2025-01-18T11:02:40.235172",
     "exception": false,
     "start_time": "2025-01-18T11:02:40.210085",
     "status": "completed"
    },
    "tags": []
   },
   "outputs": [
    {
     "name": "stdout",
     "output_type": "stream",
     "text": [
      "0          421-429-7655x39421\n",
      "1        +1-451-574-5308x1681\n",
      "2               (858)901-5499\n",
      "3          (853)681-1839x2010\n",
      "4          364-575-8478x67812\n",
      "                ...          \n",
      "2995    001-324-747-3549x4392\n",
      "2996      (870)454-9481x49987\n",
      "2997         001-847-873-3665\n",
      "2998      (385)467-6434x67311\n",
      "2999            (772)767-2580\n",
      "Name: Phone Number, Length: 3000, dtype: object\n"
     ]
    }
   ],
   "source": [
    "print(recruitment['Phone Number'])"
   ]
  },
  {
   "cell_type": "markdown",
   "id": "bddc0b54",
   "metadata": {
    "papermill": {
     "duration": 0.016183,
     "end_time": "2025-01-18T11:02:40.267709",
     "exception": false,
     "start_time": "2025-01-18T11:02:40.251526",
     "status": "completed"
    },
    "tags": []
   },
   "source": [
    "**I can see that there are a mix of phone number formates in the  dataset. For now, I will prioritize usability (e.g. the HR might need to contact the employee so I will retain all information) so I won't be reformatting these numbers to avoid potential issues. However, I am also including here a commented code for cases when consistent formatting may be needed.**"
   ]
  },
  {
   "cell_type": "code",
   "execution_count": 34,
   "id": "2b598774",
   "metadata": {
    "execution": {
     "iopub.execute_input": "2025-01-18T11:02:40.300791Z",
     "iopub.status.busy": "2025-01-18T11:02:40.300409Z",
     "iopub.status.idle": "2025-01-18T11:02:40.304385Z",
     "shell.execute_reply": "2025-01-18T11:02:40.303332Z"
    },
    "papermill": {
     "duration": 0.022509,
     "end_time": "2025-01-18T11:02:40.306013",
     "exception": false,
     "start_time": "2025-01-18T11:02:40.283504",
     "status": "completed"
    },
    "tags": []
   },
   "outputs": [],
   "source": [
    "# import re\n",
    "\n",
    "# def reformat_phone(number):\n",
    "#     formatted = number.split(\"x\",1)[0]\n",
    "#     formatted = re.sub(\"[^0-9]\",\"\", formatted)\n",
    "#     if len(formatted) == 10:\n",
    "#         return f\"{formatted[:3]}-{formatted[3:6]}-{formatted[6:]}\"\n",
    "#     else:\n",
    "#         return formatted\n",
    "\n",
    "\n",
    "# recruitment['Phone Number'] = pd.Series(recruitment['Phone Number']).apply(reformat_phone)\n",
    "# print(recruitment['Phone Number'])"
   ]
  },
  {
   "cell_type": "markdown",
   "id": "ba5c51b3",
   "metadata": {
    "papermill": {
     "duration": 0.01605,
     "end_time": "2025-01-18T11:02:40.338775",
     "exception": false,
     "start_time": "2025-01-18T11:02:40.322725",
     "status": "completed"
    },
    "tags": []
   },
   "source": [
    "# Adding a Composite Key\n",
    "I noticed that the recruitment dataset have no foreign key that will connect to the employee dataset. Hence, I will be adding a composite key for each dataset."
   ]
  },
  {
   "cell_type": "code",
   "execution_count": 35,
   "id": "c8829fe2",
   "metadata": {
    "execution": {
     "iopub.execute_input": "2025-01-18T11:02:40.373070Z",
     "iopub.status.busy": "2025-01-18T11:02:40.372676Z",
     "iopub.status.idle": "2025-01-18T11:02:40.395102Z",
     "shell.execute_reply": "2025-01-18T11:02:40.394131Z"
    },
    "papermill": {
     "duration": 0.041394,
     "end_time": "2025-01-18T11:02:40.396668",
     "exception": false,
     "start_time": "2025-01-18T11:02:40.355274",
     "status": "completed"
    },
    "tags": []
   },
   "outputs": [
    {
     "data": {
      "text/html": [
       "<div>\n",
       "<style scoped>\n",
       "    .dataframe tbody tr th:only-of-type {\n",
       "        vertical-align: middle;\n",
       "    }\n",
       "\n",
       "    .dataframe tbody tr th {\n",
       "        vertical-align: top;\n",
       "    }\n",
       "\n",
       "    .dataframe thead th {\n",
       "        text-align: right;\n",
       "    }\n",
       "</style>\n",
       "<table border=\"1\" class=\"dataframe\">\n",
       "  <thead>\n",
       "    <tr style=\"text-align: right;\">\n",
       "      <th></th>\n",
       "      <th>EmpID</th>\n",
       "      <th>FirstName</th>\n",
       "      <th>LastName</th>\n",
       "      <th>StartDate</th>\n",
       "      <th>ExitDate</th>\n",
       "      <th>Title</th>\n",
       "      <th>Supervisor</th>\n",
       "      <th>ADEmail</th>\n",
       "      <th>BusinessUnit</th>\n",
       "      <th>EmployeeStatus</th>\n",
       "      <th>...</th>\n",
       "      <th>DOB</th>\n",
       "      <th>State</th>\n",
       "      <th>JobFunctionDescription</th>\n",
       "      <th>GenderCode</th>\n",
       "      <th>LocationCode</th>\n",
       "      <th>RaceDesc</th>\n",
       "      <th>MaritalDesc</th>\n",
       "      <th>Performance Score</th>\n",
       "      <th>Current Employee Rating</th>\n",
       "      <th>ReusedEmail</th>\n",
       "    </tr>\n",
       "  </thead>\n",
       "  <tbody>\n",
       "    <tr>\n",
       "      <th>0</th>\n",
       "      <td>3427</td>\n",
       "      <td>Uriah</td>\n",
       "      <td>Bridges</td>\n",
       "      <td>2019-09-20</td>\n",
       "      <td>NaT</td>\n",
       "      <td>Production Technician I</td>\n",
       "      <td>Peter Oneill</td>\n",
       "      <td>uriah.bridges@bilearner.com</td>\n",
       "      <td>CCDR</td>\n",
       "      <td>Active</td>\n",
       "      <td>...</td>\n",
       "      <td>1969-10-07</td>\n",
       "      <td>MA</td>\n",
       "      <td>Accounting</td>\n",
       "      <td>Female</td>\n",
       "      <td>34904</td>\n",
       "      <td>White</td>\n",
       "      <td>Widowed</td>\n",
       "      <td>Fully Meets</td>\n",
       "      <td>4</td>\n",
       "      <td>False</td>\n",
       "    </tr>\n",
       "    <tr>\n",
       "      <th>1</th>\n",
       "      <td>3428</td>\n",
       "      <td>Paula</td>\n",
       "      <td>Small</td>\n",
       "      <td>2023-02-11</td>\n",
       "      <td>NaT</td>\n",
       "      <td>Production Technician I</td>\n",
       "      <td>Renee Mccormick</td>\n",
       "      <td>paula.small@bilearner.com</td>\n",
       "      <td>EW</td>\n",
       "      <td>Active</td>\n",
       "      <td>...</td>\n",
       "      <td>1965-08-30</td>\n",
       "      <td>MA</td>\n",
       "      <td>Labor</td>\n",
       "      <td>Male</td>\n",
       "      <td>6593</td>\n",
       "      <td>Hispanic</td>\n",
       "      <td>Widowed</td>\n",
       "      <td>Fully Meets</td>\n",
       "      <td>3</td>\n",
       "      <td>False</td>\n",
       "    </tr>\n",
       "    <tr>\n",
       "      <th>2</th>\n",
       "      <td>3429</td>\n",
       "      <td>Edward</td>\n",
       "      <td>Buck</td>\n",
       "      <td>2018-12-10</td>\n",
       "      <td>NaT</td>\n",
       "      <td>Area Sales Manager</td>\n",
       "      <td>Crystal Walker</td>\n",
       "      <td>edward.buck@bilearner.com</td>\n",
       "      <td>PL</td>\n",
       "      <td>Active</td>\n",
       "      <td>...</td>\n",
       "      <td>1991-10-06</td>\n",
       "      <td>MA</td>\n",
       "      <td>Assistant</td>\n",
       "      <td>Male</td>\n",
       "      <td>2330</td>\n",
       "      <td>Hispanic</td>\n",
       "      <td>Widowed</td>\n",
       "      <td>Fully Meets</td>\n",
       "      <td>4</td>\n",
       "      <td>False</td>\n",
       "    </tr>\n",
       "    <tr>\n",
       "      <th>3</th>\n",
       "      <td>3430</td>\n",
       "      <td>Michael</td>\n",
       "      <td>Riordan</td>\n",
       "      <td>2021-06-21</td>\n",
       "      <td>NaT</td>\n",
       "      <td>Area Sales Manager</td>\n",
       "      <td>Rebekah Wright</td>\n",
       "      <td>michael.riordan@bilearner.com</td>\n",
       "      <td>CCDR</td>\n",
       "      <td>Active</td>\n",
       "      <td>...</td>\n",
       "      <td>1998-04-04</td>\n",
       "      <td>ND</td>\n",
       "      <td>Clerk</td>\n",
       "      <td>Male</td>\n",
       "      <td>58782</td>\n",
       "      <td>Other</td>\n",
       "      <td>Single</td>\n",
       "      <td>Fully Meets</td>\n",
       "      <td>2</td>\n",
       "      <td>False</td>\n",
       "    </tr>\n",
       "    <tr>\n",
       "      <th>4</th>\n",
       "      <td>3431</td>\n",
       "      <td>Jasmine</td>\n",
       "      <td>Onque</td>\n",
       "      <td>2019-06-29</td>\n",
       "      <td>NaT</td>\n",
       "      <td>Area Sales Manager</td>\n",
       "      <td>Jason Kim</td>\n",
       "      <td>jasmine.onque@bilearner.com</td>\n",
       "      <td>TNS</td>\n",
       "      <td>Active</td>\n",
       "      <td>...</td>\n",
       "      <td>1969-08-29</td>\n",
       "      <td>FL</td>\n",
       "      <td>Laborer</td>\n",
       "      <td>Female</td>\n",
       "      <td>33174</td>\n",
       "      <td>Other</td>\n",
       "      <td>Married</td>\n",
       "      <td>Fully Meets</td>\n",
       "      <td>3</td>\n",
       "      <td>False</td>\n",
       "    </tr>\n",
       "  </tbody>\n",
       "</table>\n",
       "<p>5 rows × 27 columns</p>\n",
       "</div>"
      ],
      "text/plain": [
       "   EmpID FirstName LastName  StartDate ExitDate                    Title  \\\n",
       "0   3427     Uriah  Bridges 2019-09-20      NaT  Production Technician I   \n",
       "1   3428     Paula    Small 2023-02-11      NaT  Production Technician I   \n",
       "2   3429    Edward     Buck 2018-12-10      NaT       Area Sales Manager   \n",
       "3   3430   Michael  Riordan 2021-06-21      NaT       Area Sales Manager   \n",
       "4   3431   Jasmine    Onque 2019-06-29      NaT       Area Sales Manager   \n",
       "\n",
       "        Supervisor                        ADEmail BusinessUnit EmployeeStatus  \\\n",
       "0     Peter Oneill    uriah.bridges@bilearner.com         CCDR         Active   \n",
       "1  Renee Mccormick      paula.small@bilearner.com           EW         Active   \n",
       "2   Crystal Walker      edward.buck@bilearner.com           PL         Active   \n",
       "3   Rebekah Wright  michael.riordan@bilearner.com         CCDR         Active   \n",
       "4        Jason Kim    jasmine.onque@bilearner.com          TNS         Active   \n",
       "\n",
       "   ...        DOB State JobFunctionDescription GenderCode LocationCode  \\\n",
       "0  ... 1969-10-07    MA             Accounting     Female        34904   \n",
       "1  ... 1965-08-30    MA                  Labor       Male         6593   \n",
       "2  ... 1991-10-06    MA              Assistant       Male         2330   \n",
       "3  ... 1998-04-04    ND                  Clerk       Male        58782   \n",
       "4  ... 1969-08-29    FL                Laborer     Female        33174   \n",
       "\n",
       "   RaceDesc MaritalDesc Performance Score Current Employee Rating ReusedEmail  \n",
       "0     White     Widowed       Fully Meets                       4       False  \n",
       "1  Hispanic     Widowed       Fully Meets                       3       False  \n",
       "2  Hispanic     Widowed       Fully Meets                       4       False  \n",
       "3     Other      Single       Fully Meets                       2       False  \n",
       "4     Other     Married       Fully Meets                       3       False  \n",
       "\n",
       "[5 rows x 27 columns]"
      ]
     },
     "execution_count": 35,
     "metadata": {},
     "output_type": "execute_result"
    }
   ],
   "source": [
    "employees.head()"
   ]
  },
  {
   "cell_type": "code",
   "execution_count": 36,
   "id": "6f975b7a",
   "metadata": {
    "execution": {
     "iopub.execute_input": "2025-01-18T11:02:40.430864Z",
     "iopub.status.busy": "2025-01-18T11:02:40.430502Z",
     "iopub.status.idle": "2025-01-18T11:02:40.447568Z",
     "shell.execute_reply": "2025-01-18T11:02:40.446617Z"
    },
    "papermill": {
     "duration": 0.035971,
     "end_time": "2025-01-18T11:02:40.449130",
     "exception": false,
     "start_time": "2025-01-18T11:02:40.413159",
     "status": "completed"
    },
    "tags": []
   },
   "outputs": [
    {
     "data": {
      "text/html": [
       "<div>\n",
       "<style scoped>\n",
       "    .dataframe tbody tr th:only-of-type {\n",
       "        vertical-align: middle;\n",
       "    }\n",
       "\n",
       "    .dataframe tbody tr th {\n",
       "        vertical-align: top;\n",
       "    }\n",
       "\n",
       "    .dataframe thead th {\n",
       "        text-align: right;\n",
       "    }\n",
       "</style>\n",
       "<table border=\"1\" class=\"dataframe\">\n",
       "  <thead>\n",
       "    <tr style=\"text-align: right;\">\n",
       "      <th></th>\n",
       "      <th>Applicant ID</th>\n",
       "      <th>Application Date</th>\n",
       "      <th>First Name</th>\n",
       "      <th>Last Name</th>\n",
       "      <th>Gender</th>\n",
       "      <th>Date of Birth</th>\n",
       "      <th>Phone Number</th>\n",
       "      <th>Email</th>\n",
       "      <th>Address</th>\n",
       "      <th>City</th>\n",
       "      <th>State</th>\n",
       "      <th>Zip Code</th>\n",
       "      <th>Country</th>\n",
       "      <th>Education Level</th>\n",
       "      <th>Years of Experience</th>\n",
       "      <th>Desired Salary</th>\n",
       "      <th>Job Title</th>\n",
       "      <th>Status</th>\n",
       "    </tr>\n",
       "  </thead>\n",
       "  <tbody>\n",
       "    <tr>\n",
       "      <th>0</th>\n",
       "      <td>1001</td>\n",
       "      <td>2023-06-03</td>\n",
       "      <td>Scott</td>\n",
       "      <td>Sheppard</td>\n",
       "      <td>Male</td>\n",
       "      <td>1992-08-31</td>\n",
       "      <td>421-429-7655x39421</td>\n",
       "      <td>perezjanet@example.org</td>\n",
       "      <td>597 Smith Point</td>\n",
       "      <td>Hollandfort</td>\n",
       "      <td>NV</td>\n",
       "      <td>57588</td>\n",
       "      <td>Micronesia</td>\n",
       "      <td>High School</td>\n",
       "      <td>8</td>\n",
       "      <td>60103.21</td>\n",
       "      <td>Chief Technology Officer</td>\n",
       "      <td>Interviewing</td>\n",
       "    </tr>\n",
       "    <tr>\n",
       "      <th>1</th>\n",
       "      <td>1002</td>\n",
       "      <td>2023-05-15</td>\n",
       "      <td>Stanley</td>\n",
       "      <td>Lewis</td>\n",
       "      <td>Male</td>\n",
       "      <td>1965-04-29</td>\n",
       "      <td>+1-451-574-5308x1681</td>\n",
       "      <td>grossmark@example.com</td>\n",
       "      <td>8116 Stuart Loop</td>\n",
       "      <td>Port Margaretfurt</td>\n",
       "      <td>TN</td>\n",
       "      <td>14726</td>\n",
       "      <td>Greenland</td>\n",
       "      <td>Bachelor's Degree</td>\n",
       "      <td>17</td>\n",
       "      <td>64575.84</td>\n",
       "      <td>Designer, furniture</td>\n",
       "      <td>Rejected</td>\n",
       "    </tr>\n",
       "    <tr>\n",
       "      <th>2</th>\n",
       "      <td>1003</td>\n",
       "      <td>2023-08-04</td>\n",
       "      <td>Javier</td>\n",
       "      <td>Li</td>\n",
       "      <td>Female</td>\n",
       "      <td>1973-03-10</td>\n",
       "      <td>(858)901-5499</td>\n",
       "      <td>katiemaldonado@example.com</td>\n",
       "      <td>5940 Barr Villages Suite 075</td>\n",
       "      <td>Dianaland</td>\n",
       "      <td>TX</td>\n",
       "      <td>4699</td>\n",
       "      <td>China</td>\n",
       "      <td>PhD</td>\n",
       "      <td>20</td>\n",
       "      <td>39422.71</td>\n",
       "      <td>Sound technician, broadcasting/film/video</td>\n",
       "      <td>Rejected</td>\n",
       "    </tr>\n",
       "    <tr>\n",
       "      <th>3</th>\n",
       "      <td>1004</td>\n",
       "      <td>2023-07-28</td>\n",
       "      <td>Christopher</td>\n",
       "      <td>Johnston</td>\n",
       "      <td>Other</td>\n",
       "      <td>2001-04-04</td>\n",
       "      <td>(853)681-1839x2010</td>\n",
       "      <td>sheila73@example.com</td>\n",
       "      <td>442 Lewis Mount</td>\n",
       "      <td>Youngfurt</td>\n",
       "      <td>GA</td>\n",
       "      <td>34455</td>\n",
       "      <td>Ghana</td>\n",
       "      <td>High School</td>\n",
       "      <td>8</td>\n",
       "      <td>51045.11</td>\n",
       "      <td>Air cabin crew</td>\n",
       "      <td>Rejected</td>\n",
       "    </tr>\n",
       "    <tr>\n",
       "      <th>4</th>\n",
       "      <td>1005</td>\n",
       "      <td>2023-06-05</td>\n",
       "      <td>Melissa</td>\n",
       "      <td>Hicks</td>\n",
       "      <td>Other</td>\n",
       "      <td>1978-06-17</td>\n",
       "      <td>364-575-8478x67812</td>\n",
       "      <td>emilypatterson@example.org</td>\n",
       "      <td>95961 Taylor Circles Apt. 169</td>\n",
       "      <td>East Ashleyborough</td>\n",
       "      <td>IN</td>\n",
       "      <td>21014</td>\n",
       "      <td>Solomon Islands</td>\n",
       "      <td>Master's Degree</td>\n",
       "      <td>0</td>\n",
       "      <td>52792.86</td>\n",
       "      <td>Art therapist</td>\n",
       "      <td>Interviewing</td>\n",
       "    </tr>\n",
       "  </tbody>\n",
       "</table>\n",
       "</div>"
      ],
      "text/plain": [
       "   Applicant ID Application Date   First Name Last Name  Gender Date of Birth  \\\n",
       "0          1001       2023-06-03        Scott  Sheppard    Male    1992-08-31   \n",
       "1          1002       2023-05-15      Stanley     Lewis    Male    1965-04-29   \n",
       "2          1003       2023-08-04       Javier        Li  Female    1973-03-10   \n",
       "3          1004       2023-07-28  Christopher  Johnston   Other    2001-04-04   \n",
       "4          1005       2023-06-05      Melissa     Hicks   Other    1978-06-17   \n",
       "\n",
       "           Phone Number                       Email  \\\n",
       "0    421-429-7655x39421      perezjanet@example.org   \n",
       "1  +1-451-574-5308x1681       grossmark@example.com   \n",
       "2         (858)901-5499  katiemaldonado@example.com   \n",
       "3    (853)681-1839x2010        sheila73@example.com   \n",
       "4    364-575-8478x67812  emilypatterson@example.org   \n",
       "\n",
       "                         Address                City State  Zip Code  \\\n",
       "0                597 Smith Point         Hollandfort    NV     57588   \n",
       "1               8116 Stuart Loop   Port Margaretfurt    TN     14726   \n",
       "2   5940 Barr Villages Suite 075           Dianaland    TX      4699   \n",
       "3                442 Lewis Mount           Youngfurt    GA     34455   \n",
       "4  95961 Taylor Circles Apt. 169  East Ashleyborough    IN     21014   \n",
       "\n",
       "           Country    Education Level  Years of Experience  Desired Salary  \\\n",
       "0       Micronesia        High School                    8        60103.21   \n",
       "1        Greenland  Bachelor's Degree                   17        64575.84   \n",
       "2            China                PhD                   20        39422.71   \n",
       "3            Ghana        High School                    8        51045.11   \n",
       "4  Solomon Islands    Master's Degree                    0        52792.86   \n",
       "\n",
       "                                   Job Title        Status  \n",
       "0                   Chief Technology Officer  Interviewing  \n",
       "1                        Designer, furniture      Rejected  \n",
       "2  Sound technician, broadcasting/film/video      Rejected  \n",
       "3                             Air cabin crew      Rejected  \n",
       "4                              Art therapist  Interviewing  "
      ]
     },
     "execution_count": 36,
     "metadata": {},
     "output_type": "execute_result"
    }
   ],
   "source": [
    "recruitment.head()"
   ]
  },
  {
   "cell_type": "code",
   "execution_count": 37,
   "id": "d4e2cb38",
   "metadata": {
    "execution": {
     "iopub.execute_input": "2025-01-18T11:02:40.483525Z",
     "iopub.status.busy": "2025-01-18T11:02:40.483125Z",
     "iopub.status.idle": "2025-01-18T11:02:40.498593Z",
     "shell.execute_reply": "2025-01-18T11:02:40.497763Z"
    },
    "papermill": {
     "duration": 0.03445,
     "end_time": "2025-01-18T11:02:40.500304",
     "exception": false,
     "start_time": "2025-01-18T11:02:40.465854",
     "status": "completed"
    },
    "tags": []
   },
   "outputs": [],
   "source": [
    "employees['recruitment_mapping'] = (employees['LastName']) + '-' + (employees['FirstName']) + '-' + (employees['DOB']).astype(str)\n",
    "recruitment['composite_key'] = (recruitment['Last Name']) + '-' + (recruitment['First Name']) + '-' + (recruitment['Date of Birth']).astype(str)"
   ]
  },
  {
   "cell_type": "code",
   "execution_count": 38,
   "id": "908d9ccf",
   "metadata": {
    "execution": {
     "iopub.execute_input": "2025-01-18T11:02:40.535107Z",
     "iopub.status.busy": "2025-01-18T11:02:40.534758Z",
     "iopub.status.idle": "2025-01-18T11:02:40.541368Z",
     "shell.execute_reply": "2025-01-18T11:02:40.540229Z"
    },
    "papermill": {
     "duration": 0.025448,
     "end_time": "2025-01-18T11:02:40.542724",
     "exception": false,
     "start_time": "2025-01-18T11:02:40.517276",
     "status": "completed"
    },
    "tags": []
   },
   "outputs": [
    {
     "name": "stdout",
     "output_type": "stream",
     "text": [
      "0           Bridges-Uriah-1969-10-07\n",
      "1             Small-Paula-1965-08-30\n",
      "2             Buck-Edward-1991-10-06\n",
      "3         Riordan-Michael-1998-04-04\n",
      "4           Onque-Jasmine-1969-08-29\n",
      "                    ...             \n",
      "2995      Erickson-Jakobe-1998-06-23\n",
      "2996    Strickland-Adyson-2001-06-10\n",
      "2997      Wilkins-Annabel-1997-01-27\n",
      "2998         Braun-Kendra-1954-05-28\n",
      "2999           Kerr-Chace-1990-09-11\n",
      "Name: recruitment_mapping, Length: 3000, dtype: object\n"
     ]
    }
   ],
   "source": [
    "print(employees['recruitment_mapping'])"
   ]
  },
  {
   "cell_type": "code",
   "execution_count": 39,
   "id": "29ef00ab",
   "metadata": {
    "execution": {
     "iopub.execute_input": "2025-01-18T11:02:40.577788Z",
     "iopub.status.busy": "2025-01-18T11:02:40.577423Z",
     "iopub.status.idle": "2025-01-18T11:02:40.583746Z",
     "shell.execute_reply": "2025-01-18T11:02:40.582563Z"
    },
    "papermill": {
     "duration": 0.02577,
     "end_time": "2025-01-18T11:02:40.585288",
     "exception": false,
     "start_time": "2025-01-18T11:02:40.559518",
     "status": "completed"
    },
    "tags": []
   },
   "outputs": [
    {
     "name": "stdout",
     "output_type": "stream",
     "text": [
      "0             Sheppard-Scott-1992-08-31\n",
      "1              Lewis-Stanley-1965-04-29\n",
      "2                  Li-Javier-1973-03-10\n",
      "3       Johnston-Christopher-2001-04-04\n",
      "4              Hicks-Melissa-1978-06-17\n",
      "                     ...               \n",
      "2995          Butler-Melinda-1993-11-25\n",
      "2996         Johnson-Latasha-1978-01-29\n",
      "2997             Gill-Cheryl-2000-02-08\n",
      "2998       Villegas-Danielle-1994-08-08\n",
      "2999       Hernandez-Charles-1980-06-01\n",
      "Name: composite_key, Length: 3000, dtype: object\n"
     ]
    }
   ],
   "source": [
    "print(recruitment['composite_key'])"
   ]
  },
  {
   "cell_type": "code",
   "execution_count": 40,
   "id": "8326f1e3",
   "metadata": {
    "execution": {
     "iopub.execute_input": "2025-01-18T11:02:40.620792Z",
     "iopub.status.busy": "2025-01-18T11:02:40.620421Z",
     "iopub.status.idle": "2025-01-18T11:02:40.633136Z",
     "shell.execute_reply": "2025-01-18T11:02:40.632114Z"
    },
    "papermill": {
     "duration": 0.031994,
     "end_time": "2025-01-18T11:02:40.634713",
     "exception": false,
     "start_time": "2025-01-18T11:02:40.602719",
     "status": "completed"
    },
    "tags": []
   },
   "outputs": [
    {
     "name": "stdout",
     "output_type": "stream",
     "text": [
      "Empty DataFrame\n",
      "Columns: [EmpID, FirstName, LastName, StartDate, ExitDate, Title, Supervisor, ADEmail, BusinessUnit, EmployeeStatus, EmployeeType, PayZone, EmployeeClassificationType, TerminationType, TerminationDescription, DepartmentType, Division, DOB, State, JobFunctionDescription, GenderCode, LocationCode, RaceDesc, MaritalDesc, Performance Score, Current Employee Rating, ReusedEmail, recruitment_mapping, match]\n",
      "Index: []\n",
      "\n",
      "[0 rows x 29 columns]\n"
     ]
    }
   ],
   "source": [
    "employees['match'] = employees['recruitment_mapping'].isin(recruitment['composite_key'])\n",
    "\n",
    "print(employees[employees['match']])"
   ]
  },
  {
   "cell_type": "markdown",
   "id": "90f7b51f",
   "metadata": {
    "papermill": {
     "duration": 0.016609,
     "end_time": "2025-01-18T11:02:40.668295",
     "exception": false,
     "start_time": "2025-01-18T11:02:40.651686",
     "status": "completed"
    },
    "tags": []
   },
   "source": [
    "**Upon checking, it seems that the two dataset are actually independent of each other. There are no matching columns based on the composite key. I will just drop the recruitment databse since I am aiming to have relational databases in SQL.**"
   ]
  },
  {
   "cell_type": "markdown",
   "id": "bec0fc9e",
   "metadata": {
    "papermill": {
     "duration": 0.016582,
     "end_time": "2025-01-18T11:02:40.702986",
     "exception": false,
     "start_time": "2025-01-18T11:02:40.686404",
     "status": "completed"
    },
    "tags": []
   },
   "source": [
    "# Removing and Renaming the columns"
   ]
  },
  {
   "cell_type": "markdown",
   "id": "7e784cc8",
   "metadata": {
    "papermill": {
     "duration": 0.01646,
     "end_time": "2025-01-18T11:02:40.736179",
     "exception": false,
     "start_time": "2025-01-18T11:02:40.719719",
     "status": "completed"
    },
    "tags": []
   },
   "source": [
    "### employees"
   ]
  },
  {
   "cell_type": "code",
   "execution_count": 41,
   "id": "a688208a",
   "metadata": {
    "execution": {
     "iopub.execute_input": "2025-01-18T11:02:40.771053Z",
     "iopub.status.busy": "2025-01-18T11:02:40.770733Z",
     "iopub.status.idle": "2025-01-18T11:02:40.791157Z",
     "shell.execute_reply": "2025-01-18T11:02:40.790252Z"
    },
    "papermill": {
     "duration": 0.039805,
     "end_time": "2025-01-18T11:02:40.792836",
     "exception": false,
     "start_time": "2025-01-18T11:02:40.753031",
     "status": "completed"
    },
    "tags": []
   },
   "outputs": [
    {
     "data": {
      "text/html": [
       "<div>\n",
       "<style scoped>\n",
       "    .dataframe tbody tr th:only-of-type {\n",
       "        vertical-align: middle;\n",
       "    }\n",
       "\n",
       "    .dataframe tbody tr th {\n",
       "        vertical-align: top;\n",
       "    }\n",
       "\n",
       "    .dataframe thead th {\n",
       "        text-align: right;\n",
       "    }\n",
       "</style>\n",
       "<table border=\"1\" class=\"dataframe\">\n",
       "  <thead>\n",
       "    <tr style=\"text-align: right;\">\n",
       "      <th></th>\n",
       "      <th>EmpID</th>\n",
       "      <th>FirstName</th>\n",
       "      <th>LastName</th>\n",
       "      <th>StartDate</th>\n",
       "      <th>ExitDate</th>\n",
       "      <th>Title</th>\n",
       "      <th>Supervisor</th>\n",
       "      <th>ADEmail</th>\n",
       "      <th>BusinessUnit</th>\n",
       "      <th>EmployeeStatus</th>\n",
       "      <th>...</th>\n",
       "      <th>JobFunctionDescription</th>\n",
       "      <th>GenderCode</th>\n",
       "      <th>LocationCode</th>\n",
       "      <th>RaceDesc</th>\n",
       "      <th>MaritalDesc</th>\n",
       "      <th>Performance Score</th>\n",
       "      <th>Current Employee Rating</th>\n",
       "      <th>ReusedEmail</th>\n",
       "      <th>recruitment_mapping</th>\n",
       "      <th>match</th>\n",
       "    </tr>\n",
       "  </thead>\n",
       "  <tbody>\n",
       "    <tr>\n",
       "      <th>0</th>\n",
       "      <td>3427</td>\n",
       "      <td>Uriah</td>\n",
       "      <td>Bridges</td>\n",
       "      <td>2019-09-20</td>\n",
       "      <td>NaT</td>\n",
       "      <td>Production Technician I</td>\n",
       "      <td>Peter Oneill</td>\n",
       "      <td>uriah.bridges@bilearner.com</td>\n",
       "      <td>CCDR</td>\n",
       "      <td>Active</td>\n",
       "      <td>...</td>\n",
       "      <td>Accounting</td>\n",
       "      <td>Female</td>\n",
       "      <td>34904</td>\n",
       "      <td>White</td>\n",
       "      <td>Widowed</td>\n",
       "      <td>Fully Meets</td>\n",
       "      <td>4</td>\n",
       "      <td>False</td>\n",
       "      <td>Bridges-Uriah-1969-10-07</td>\n",
       "      <td>False</td>\n",
       "    </tr>\n",
       "    <tr>\n",
       "      <th>1</th>\n",
       "      <td>3428</td>\n",
       "      <td>Paula</td>\n",
       "      <td>Small</td>\n",
       "      <td>2023-02-11</td>\n",
       "      <td>NaT</td>\n",
       "      <td>Production Technician I</td>\n",
       "      <td>Renee Mccormick</td>\n",
       "      <td>paula.small@bilearner.com</td>\n",
       "      <td>EW</td>\n",
       "      <td>Active</td>\n",
       "      <td>...</td>\n",
       "      <td>Labor</td>\n",
       "      <td>Male</td>\n",
       "      <td>6593</td>\n",
       "      <td>Hispanic</td>\n",
       "      <td>Widowed</td>\n",
       "      <td>Fully Meets</td>\n",
       "      <td>3</td>\n",
       "      <td>False</td>\n",
       "      <td>Small-Paula-1965-08-30</td>\n",
       "      <td>False</td>\n",
       "    </tr>\n",
       "    <tr>\n",
       "      <th>2</th>\n",
       "      <td>3429</td>\n",
       "      <td>Edward</td>\n",
       "      <td>Buck</td>\n",
       "      <td>2018-12-10</td>\n",
       "      <td>NaT</td>\n",
       "      <td>Area Sales Manager</td>\n",
       "      <td>Crystal Walker</td>\n",
       "      <td>edward.buck@bilearner.com</td>\n",
       "      <td>PL</td>\n",
       "      <td>Active</td>\n",
       "      <td>...</td>\n",
       "      <td>Assistant</td>\n",
       "      <td>Male</td>\n",
       "      <td>2330</td>\n",
       "      <td>Hispanic</td>\n",
       "      <td>Widowed</td>\n",
       "      <td>Fully Meets</td>\n",
       "      <td>4</td>\n",
       "      <td>False</td>\n",
       "      <td>Buck-Edward-1991-10-06</td>\n",
       "      <td>False</td>\n",
       "    </tr>\n",
       "    <tr>\n",
       "      <th>3</th>\n",
       "      <td>3430</td>\n",
       "      <td>Michael</td>\n",
       "      <td>Riordan</td>\n",
       "      <td>2021-06-21</td>\n",
       "      <td>NaT</td>\n",
       "      <td>Area Sales Manager</td>\n",
       "      <td>Rebekah Wright</td>\n",
       "      <td>michael.riordan@bilearner.com</td>\n",
       "      <td>CCDR</td>\n",
       "      <td>Active</td>\n",
       "      <td>...</td>\n",
       "      <td>Clerk</td>\n",
       "      <td>Male</td>\n",
       "      <td>58782</td>\n",
       "      <td>Other</td>\n",
       "      <td>Single</td>\n",
       "      <td>Fully Meets</td>\n",
       "      <td>2</td>\n",
       "      <td>False</td>\n",
       "      <td>Riordan-Michael-1998-04-04</td>\n",
       "      <td>False</td>\n",
       "    </tr>\n",
       "    <tr>\n",
       "      <th>4</th>\n",
       "      <td>3431</td>\n",
       "      <td>Jasmine</td>\n",
       "      <td>Onque</td>\n",
       "      <td>2019-06-29</td>\n",
       "      <td>NaT</td>\n",
       "      <td>Area Sales Manager</td>\n",
       "      <td>Jason Kim</td>\n",
       "      <td>jasmine.onque@bilearner.com</td>\n",
       "      <td>TNS</td>\n",
       "      <td>Active</td>\n",
       "      <td>...</td>\n",
       "      <td>Laborer</td>\n",
       "      <td>Female</td>\n",
       "      <td>33174</td>\n",
       "      <td>Other</td>\n",
       "      <td>Married</td>\n",
       "      <td>Fully Meets</td>\n",
       "      <td>3</td>\n",
       "      <td>False</td>\n",
       "      <td>Onque-Jasmine-1969-08-29</td>\n",
       "      <td>False</td>\n",
       "    </tr>\n",
       "  </tbody>\n",
       "</table>\n",
       "<p>5 rows × 29 columns</p>\n",
       "</div>"
      ],
      "text/plain": [
       "   EmpID FirstName LastName  StartDate ExitDate                    Title  \\\n",
       "0   3427     Uriah  Bridges 2019-09-20      NaT  Production Technician I   \n",
       "1   3428     Paula    Small 2023-02-11      NaT  Production Technician I   \n",
       "2   3429    Edward     Buck 2018-12-10      NaT       Area Sales Manager   \n",
       "3   3430   Michael  Riordan 2021-06-21      NaT       Area Sales Manager   \n",
       "4   3431   Jasmine    Onque 2019-06-29      NaT       Area Sales Manager   \n",
       "\n",
       "        Supervisor                        ADEmail BusinessUnit EmployeeStatus  \\\n",
       "0     Peter Oneill    uriah.bridges@bilearner.com         CCDR         Active   \n",
       "1  Renee Mccormick      paula.small@bilearner.com           EW         Active   \n",
       "2   Crystal Walker      edward.buck@bilearner.com           PL         Active   \n",
       "3   Rebekah Wright  michael.riordan@bilearner.com         CCDR         Active   \n",
       "4        Jason Kim    jasmine.onque@bilearner.com          TNS         Active   \n",
       "\n",
       "   ... JobFunctionDescription GenderCode LocationCode  RaceDesc MaritalDesc  \\\n",
       "0  ...             Accounting     Female        34904     White     Widowed   \n",
       "1  ...                  Labor       Male         6593  Hispanic     Widowed   \n",
       "2  ...              Assistant       Male         2330  Hispanic     Widowed   \n",
       "3  ...                  Clerk       Male        58782     Other      Single   \n",
       "4  ...                Laborer     Female        33174     Other     Married   \n",
       "\n",
       "  Performance Score Current Employee Rating ReusedEmail  \\\n",
       "0       Fully Meets                       4       False   \n",
       "1       Fully Meets                       3       False   \n",
       "2       Fully Meets                       4       False   \n",
       "3       Fully Meets                       2       False   \n",
       "4       Fully Meets                       3       False   \n",
       "\n",
       "          recruitment_mapping  match  \n",
       "0    Bridges-Uriah-1969-10-07  False  \n",
       "1      Small-Paula-1965-08-30  False  \n",
       "2      Buck-Edward-1991-10-06  False  \n",
       "3  Riordan-Michael-1998-04-04  False  \n",
       "4    Onque-Jasmine-1969-08-29  False  \n",
       "\n",
       "[5 rows x 29 columns]"
      ]
     },
     "execution_count": 41,
     "metadata": {},
     "output_type": "execute_result"
    }
   ],
   "source": [
    "employees.head()"
   ]
  },
  {
   "cell_type": "code",
   "execution_count": 42,
   "id": "a71632d0",
   "metadata": {
    "execution": {
     "iopub.execute_input": "2025-01-18T11:02:40.828954Z",
     "iopub.status.busy": "2025-01-18T11:02:40.828573Z",
     "iopub.status.idle": "2025-01-18T11:02:40.835004Z",
     "shell.execute_reply": "2025-01-18T11:02:40.833930Z"
    },
    "papermill": {
     "duration": 0.02642,
     "end_time": "2025-01-18T11:02:40.836771",
     "exception": false,
     "start_time": "2025-01-18T11:02:40.810351",
     "status": "completed"
    },
    "tags": []
   },
   "outputs": [],
   "source": [
    "employees = employees.drop(columns=['recruitment_mapping','match'])"
   ]
  },
  {
   "cell_type": "code",
   "execution_count": 43,
   "id": "d369a558",
   "metadata": {
    "execution": {
     "iopub.execute_input": "2025-01-18T11:02:40.873207Z",
     "iopub.status.busy": "2025-01-18T11:02:40.872787Z",
     "iopub.status.idle": "2025-01-18T11:02:40.878729Z",
     "shell.execute_reply": "2025-01-18T11:02:40.877744Z"
    },
    "papermill": {
     "duration": 0.02557,
     "end_time": "2025-01-18T11:02:40.880338",
     "exception": false,
     "start_time": "2025-01-18T11:02:40.854768",
     "status": "completed"
    },
    "tags": []
   },
   "outputs": [
    {
     "data": {
      "text/plain": [
       "Index(['EmpID', 'FirstName', 'LastName', 'StartDate', 'ExitDate', 'Title',\n",
       "       'Supervisor', 'ADEmail', 'BusinessUnit', 'EmployeeStatus',\n",
       "       'EmployeeType', 'PayZone', 'EmployeeClassificationType',\n",
       "       'TerminationType', 'TerminationDescription', 'DepartmentType',\n",
       "       'Division', 'DOB', 'State', 'JobFunctionDescription', 'GenderCode',\n",
       "       'LocationCode', 'RaceDesc', 'MaritalDesc', 'Performance Score',\n",
       "       'Current Employee Rating', 'ReusedEmail'],\n",
       "      dtype='object')"
      ]
     },
     "execution_count": 43,
     "metadata": {},
     "output_type": "execute_result"
    }
   ],
   "source": [
    "employees.columns"
   ]
  },
  {
   "cell_type": "code",
   "execution_count": 44,
   "id": "a9b3d61e",
   "metadata": {
    "execution": {
     "iopub.execute_input": "2025-01-18T11:02:40.916424Z",
     "iopub.status.busy": "2025-01-18T11:02:40.916003Z",
     "iopub.status.idle": "2025-01-18T11:02:40.925060Z",
     "shell.execute_reply": "2025-01-18T11:02:40.923920Z"
    },
    "papermill": {
     "duration": 0.029062,
     "end_time": "2025-01-18T11:02:40.926913",
     "exception": false,
     "start_time": "2025-01-18T11:02:40.897851",
     "status": "completed"
    },
    "tags": []
   },
   "outputs": [],
   "source": [
    "employees = pd.DataFrame(employees).rename(columns={'EmpID':'emp_id',\n",
    "                                                    'FirstName':'first_name',\n",
    "                                                    'LastName':'last_name',\n",
    "                                                    'StartDate':'start_date',\n",
    "                                                    'ExitDate':'exit_date',\n",
    "                                                    'Title':'job_title',\n",
    "                                                    'Supervisor':'supervisor',\n",
    "                                                    'ADEmail':'email',\n",
    "                                                    'BusinessUnit':'business_unit',\n",
    "                                                    'EmployeeStatus':'employee_status',\n",
    "                                                    'EmployeeType':'employee_type',\n",
    "                                                    'PayZone': 'payzone',\n",
    "                                                    'EmployeeClassificationType': 'employee_classification',\n",
    "                                                    'TerminationType':'termination_type',\n",
    "                                                    'TerminationDescription':'termination_description',\n",
    "                                                    'DepartmentType':'department_type',\n",
    "                                                    'Division':'division',\n",
    "                                                    'DOB':'birthdate',\n",
    "                                                    'State':'state',\n",
    "                                                    'JobFunctionDescription':'job_function_desc',\n",
    "                                                    'GenderCode':'gender_code',\n",
    "                                                    'LocationCode':'location_code',\n",
    "                                                    'RaceDesc':'race',\n",
    "                                                    'MaritalDesc':'marital_status',\n",
    "                                                    'Performance Score':'performance_score',\n",
    "                                                    'Current Employee Rating':'current_employee_rating', \n",
    "                                                    'ReusedEmail':'reused_email'})"
   ]
  },
  {
   "cell_type": "markdown",
   "id": "c108b76b",
   "metadata": {
    "papermill": {
     "duration": 0.016727,
     "end_time": "2025-01-18T11:02:40.961701",
     "exception": false,
     "start_time": "2025-01-18T11:02:40.944974",
     "status": "completed"
    },
    "tags": []
   },
   "source": [
    "### tnd"
   ]
  },
  {
   "cell_type": "code",
   "execution_count": 45,
   "id": "d3e34211",
   "metadata": {
    "execution": {
     "iopub.execute_input": "2025-01-18T11:02:40.997592Z",
     "iopub.status.busy": "2025-01-18T11:02:40.997117Z",
     "iopub.status.idle": "2025-01-18T11:02:41.004109Z",
     "shell.execute_reply": "2025-01-18T11:02:41.002882Z"
    },
    "papermill": {
     "duration": 0.027007,
     "end_time": "2025-01-18T11:02:41.005856",
     "exception": false,
     "start_time": "2025-01-18T11:02:40.978849",
     "status": "completed"
    },
    "tags": []
   },
   "outputs": [
    {
     "data": {
      "text/plain": [
       "Index(['Employee ID', 'Training Date', 'Training Program Name',\n",
       "       'Training Type', 'Training Outcome', 'Location', 'Trainer',\n",
       "       'Training Duration(Days)', 'Training Cost'],\n",
       "      dtype='object')"
      ]
     },
     "execution_count": 45,
     "metadata": {},
     "output_type": "execute_result"
    }
   ],
   "source": [
    "tnd.columns"
   ]
  },
  {
   "cell_type": "code",
   "execution_count": 46,
   "id": "e386e7ec",
   "metadata": {
    "execution": {
     "iopub.execute_input": "2025-01-18T11:02:41.042813Z",
     "iopub.status.busy": "2025-01-18T11:02:41.042425Z",
     "iopub.status.idle": "2025-01-18T11:02:41.048779Z",
     "shell.execute_reply": "2025-01-18T11:02:41.047607Z"
    },
    "papermill": {
     "duration": 0.02638,
     "end_time": "2025-01-18T11:02:41.050618",
     "exception": false,
     "start_time": "2025-01-18T11:02:41.024238",
     "status": "completed"
    },
    "tags": []
   },
   "outputs": [],
   "source": [
    "tnd = pd.DataFrame(tnd).rename(columns={\n",
    "    'Employee ID': 'emp_id',\n",
    "    'Training Date': 'training_date',\n",
    "    'Training Program Name': 'training_program',\n",
    "    'Training Type': 'training_type',\n",
    "    'Training Outcome': 'training_outcome',\n",
    "    'Location': 'location',\n",
    "    'Trainer': 'trainer',\n",
    "    'Training Duration(Days)': 'training_duration',\n",
    "    'Training Cost': 'training_cost'})\n",
    "\n"
   ]
  },
  {
   "cell_type": "markdown",
   "id": "715a66f3",
   "metadata": {
    "papermill": {
     "duration": 0.020272,
     "end_time": "2025-01-18T11:02:41.088710",
     "exception": false,
     "start_time": "2025-01-18T11:02:41.068438",
     "status": "completed"
    },
    "tags": []
   },
   "source": [
    "### engagement"
   ]
  },
  {
   "cell_type": "code",
   "execution_count": 47,
   "id": "b02dd31c",
   "metadata": {
    "execution": {
     "iopub.execute_input": "2025-01-18T11:02:41.125492Z",
     "iopub.status.busy": "2025-01-18T11:02:41.125115Z",
     "iopub.status.idle": "2025-01-18T11:02:41.130828Z",
     "shell.execute_reply": "2025-01-18T11:02:41.129908Z"
    },
    "papermill": {
     "duration": 0.025463,
     "end_time": "2025-01-18T11:02:41.132245",
     "exception": false,
     "start_time": "2025-01-18T11:02:41.106782",
     "status": "completed"
    },
    "tags": []
   },
   "outputs": [
    {
     "data": {
      "text/plain": [
       "Index(['Employee ID', 'Survey Date', 'Engagement Score', 'Satisfaction Score',\n",
       "       'Work-Life Balance Score'],\n",
       "      dtype='object')"
      ]
     },
     "execution_count": 47,
     "metadata": {},
     "output_type": "execute_result"
    }
   ],
   "source": [
    "engagement.columns"
   ]
  },
  {
   "cell_type": "code",
   "execution_count": 48,
   "id": "3f6e86b9",
   "metadata": {
    "execution": {
     "iopub.execute_input": "2025-01-18T11:02:41.169006Z",
     "iopub.status.busy": "2025-01-18T11:02:41.168665Z",
     "iopub.status.idle": "2025-01-18T11:02:41.174217Z",
     "shell.execute_reply": "2025-01-18T11:02:41.173095Z"
    },
    "papermill": {
     "duration": 0.025442,
     "end_time": "2025-01-18T11:02:41.175744",
     "exception": false,
     "start_time": "2025-01-18T11:02:41.150302",
     "status": "completed"
    },
    "tags": []
   },
   "outputs": [],
   "source": [
    "engagement = pd.DataFrame(engagement).rename(columns={\n",
    "    'Employee ID': 'emp_id',\n",
    "    'Survey Date': 'survey_date',\n",
    "    'Engagement Score': 'engagement_score',\n",
    "    'Satisfaction Score': 'satisfaction_score',\n",
    "    'Work-Life Balance Score': 'worklifebalance_score'})\n"
   ]
  },
  {
   "cell_type": "markdown",
   "id": "09e0880d",
   "metadata": {
    "papermill": {
     "duration": 0.017329,
     "end_time": "2025-01-18T11:02:41.210616",
     "exception": false,
     "start_time": "2025-01-18T11:02:41.193287",
     "status": "completed"
    },
    "tags": []
   },
   "source": [
    "# Exporting"
   ]
  },
  {
   "cell_type": "code",
   "execution_count": 49,
   "id": "24dd0f4b",
   "metadata": {
    "execution": {
     "iopub.execute_input": "2025-01-18T11:02:41.246834Z",
     "iopub.status.busy": "2025-01-18T11:02:41.246495Z",
     "iopub.status.idle": "2025-01-18T11:02:41.296613Z",
     "shell.execute_reply": "2025-01-18T11:02:41.295182Z"
    },
    "papermill": {
     "duration": 0.070391,
     "end_time": "2025-01-18T11:02:41.298567",
     "exception": false,
     "start_time": "2025-01-18T11:02:41.228176",
     "status": "completed"
    },
    "tags": []
   },
   "outputs": [],
   "source": [
    "employees.to_csv('cleaned_employees.csv',index=False)"
   ]
  },
  {
   "cell_type": "code",
   "execution_count": 50,
   "id": "c5b1cf25",
   "metadata": {
    "execution": {
     "iopub.execute_input": "2025-01-18T11:02:41.334521Z",
     "iopub.status.busy": "2025-01-18T11:02:41.334131Z",
     "iopub.status.idle": "2025-01-18T11:02:41.352806Z",
     "shell.execute_reply": "2025-01-18T11:02:41.351693Z"
    },
    "papermill": {
     "duration": 0.038934,
     "end_time": "2025-01-18T11:02:41.354937",
     "exception": false,
     "start_time": "2025-01-18T11:02:41.316003",
     "status": "completed"
    },
    "tags": []
   },
   "outputs": [],
   "source": [
    "tnd.to_csv('cleaned_tnd.csv',index=False)"
   ]
  },
  {
   "cell_type": "code",
   "execution_count": 51,
   "id": "a34776ba",
   "metadata": {
    "execution": {
     "iopub.execute_input": "2025-01-18T11:02:41.391607Z",
     "iopub.status.busy": "2025-01-18T11:02:41.391219Z",
     "iopub.status.idle": "2025-01-18T11:02:41.401352Z",
     "shell.execute_reply": "2025-01-18T11:02:41.400428Z"
    },
    "papermill": {
     "duration": 0.030453,
     "end_time": "2025-01-18T11:02:41.403176",
     "exception": false,
     "start_time": "2025-01-18T11:02:41.372723",
     "status": "completed"
    },
    "tags": []
   },
   "outputs": [],
   "source": [
    "engagement.to_csv('cleaned_engagement.csv',index=False)"
   ]
  }
 ],
 "metadata": {
  "kaggle": {
   "accelerator": "none",
   "dataSources": [
    {
     "datasetId": 3620223,
     "sourceId": 6294718,
     "sourceType": "datasetVersion"
    }
   ],
   "isGpuEnabled": false,
   "isInternetEnabled": false,
   "language": "python",
   "sourceType": "notebook"
  },
  "kernelspec": {
   "display_name": "Python 3",
   "language": "python",
   "name": "python3"
  },
  "language_info": {
   "codemirror_mode": {
    "name": "ipython",
    "version": 3
   },
   "file_extension": ".py",
   "mimetype": "text/x-python",
   "name": "python",
   "nbconvert_exporter": "python",
   "pygments_lexer": "ipython3",
   "version": "3.10.12"
  },
  "papermill": {
   "default_parameters": {},
   "duration": 8.061179,
   "end_time": "2025-01-18T11:02:42.040404",
   "environment_variables": {},
   "exception": null,
   "input_path": "__notebook__.ipynb",
   "output_path": "__notebook__.ipynb",
   "parameters": {},
   "start_time": "2025-01-18T11:02:33.979225",
   "version": "2.6.0"
  }
 },
 "nbformat": 4,
 "nbformat_minor": 5
}
